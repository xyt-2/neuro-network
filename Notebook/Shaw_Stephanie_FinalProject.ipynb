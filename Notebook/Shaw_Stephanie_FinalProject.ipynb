{
 "cells": [
  {
   "cell_type": "markdown",
   "metadata": {},
   "source": [
    "Stephanie Shaw, xyt-2, 2344808735"
   ]
  },
  {
   "cell_type": "code",
   "execution_count": 51,
   "metadata": {},
   "outputs": [],
   "source": [
    "import tensorflow as tf\n",
    "import keras\n",
    "import os\n",
    "import re\n",
    "import pandas as pd\n",
    "import numpy as np\n",
    "import matplotlib.pyplot as plt\n",
    "from tensorflow.keras.preprocessing.text import Tokenizer\n",
    "from tensorflow.keras.models import Sequential\n",
    "from tensorflow.keras.preprocessing.sequence import pad_sequences\n",
    "from tensorflow.keras.layers import Embedding, Flatten, Dense, Dropout, Conv1D, MaxPooling1D, LSTM\n",
    "from tensorflow.keras.optimizers import Adam\n",
    "from tensorflow.keras import backend as K"
   ]
  },
  {
   "cell_type": "code",
   "execution_count": 82,
   "metadata": {},
   "outputs": [
    {
     "name": "stdout",
     "output_type": "stream",
     "text": [
      "Package                      Version      Editable project location\n",
      "---------------------------- ------------ -------------------------\n",
      "absl-py                      2.1.0\n",
      "anyio                        3.5.0\n",
      "appnope                      0.1.2\n",
      "argon2-cffi                  21.3.0\n",
      "argon2-cffi-bindings         21.2.0\n",
      "asttokens                    2.0.5\n",
      "astunparse                   1.6.3\n",
      "async-lru                    2.0.4\n",
      "attrs                        23.1.0\n",
      "Babel                        2.11.0\n",
      "beautifulsoup4               4.12.2\n",
      "beautifultable               1.1.0\n",
      "bleach                       4.1.0\n",
      "bootstrapped                 0.0.2\n",
      "Bottleneck                   1.3.5\n",
      "Brotli                       1.0.9\n",
      "certifi                      2024.2.2\n",
      "cffi                         1.16.0\n",
      "charset-normalizer           2.0.4\n",
      "colour                       0.1.5\n",
      "comm                         0.1.2\n",
      "contourpy                    1.2.0\n",
      "cryptography                 41.0.7\n",
      "cycler                       0.11.0\n",
      "debugpy                      1.6.7\n",
      "decorator                    5.1.1\n",
      "defusedxml                   0.7.1\n",
      "dm-tree                      0.1.8\n",
      "et-xmlfile                   1.1.0\n",
      "executing                    0.8.3\n",
      "fastjsonschema               2.16.2\n",
      "flatbuffers                  24.3.25\n",
      "fonttools                    4.25.0\n",
      "gast                         0.5.4\n",
      "geojson                      3.1.0\n",
      "google-pasta                 0.2.0\n",
      "grpcio                       1.63.0\n",
      "h5py                         3.11.0\n",
      "idna                         3.4\n",
      "imbalanced-learn             0.12.0\n",
      "imblearn                     0.0\n",
      "ipykernel                    6.25.0\n",
      "ipython                      8.20.0\n",
      "jedi                         0.18.1\n",
      "Jinja2                       3.1.2\n",
      "joblib                       1.2.0\n",
      "json5                        0.9.6\n",
      "jsonschema                   4.19.2\n",
      "jsonschema-specifications    2023.7.1\n",
      "jupyter_client               8.6.0\n",
      "jupyter_core                 5.5.0\n",
      "jupyter-events               0.8.0\n",
      "jupyter-lsp                  2.2.0\n",
      "jupyter_server               2.10.0\n",
      "jupyter_server_terminals     0.4.4\n",
      "jupyterlab                   4.0.8\n",
      "jupyterlab-pygments          0.1.2\n",
      "jupyterlab_server            2.25.1\n",
      "kagglehub                    0.2.4\n",
      "keras                        3.3.3\n",
      "kiwisolver                   1.4.4\n",
      "libclang                     18.1.1\n",
      "lxml                         4.9.3\n",
      "Markdown                     3.5.2\n",
      "markdown-it-py               3.0.0\n",
      "MarkupSafe                   2.1.3\n",
      "matplotlib                   3.8.0\n",
      "matplotlib-inline            0.1.6\n",
      "mdurl                        0.1.2\n",
      "mistune                      2.0.4\n",
      "ml-dtypes                    0.3.2\n",
      "munkres                      1.1.4\n",
      "namex                        0.0.8\n",
      "nbclient                     0.8.0\n",
      "nbconvert                    7.10.0\n",
      "nbformat                     5.9.2\n",
      "nest-asyncio                 1.5.6\n",
      "notebook                     7.0.6\n",
      "notebook_shim                0.2.3\n",
      "numexpr                      2.8.7\n",
      "numpy                        1.26.3\n",
      "openpyxl                     3.0.10\n",
      "opt-einsum                   3.3.0\n",
      "optree                       0.11.0\n",
      "overrides                    7.4.0\n",
      "packaging                    23.1\n",
      "pandas                       2.1.4\n",
      "pandocfilters                1.5.0\n",
      "parso                        0.8.3\n",
      "patsy                        0.5.3\n",
      "pexpect                      4.8.0\n",
      "Pillow                       10.0.1\n",
      "pip                          23.3.1\n",
      "pixiedust                    1.1.19       /Users/emma/pixiedust\n",
      "platformdirs                 3.10.0\n",
      "prometheus-client            0.14.1\n",
      "prompt-toolkit               3.0.43\n",
      "protobuf                     4.25.3\n",
      "psutil                       5.9.0\n",
      "ptyprocess                   0.7.0\n",
      "pure-eval                    0.2.2\n",
      "pycparser                    2.21\n",
      "Pygments                     2.15.1\n",
      "pyOpenSSL                    23.2.0\n",
      "pyparsing                    3.0.9\n",
      "PySocks                      1.7.1\n",
      "python-dateutil              2.8.2\n",
      "python-json-logger           2.0.7\n",
      "pytz                         2023.3.post1\n",
      "PyYAML                       6.0.1\n",
      "pyzmq                        25.1.2\n",
      "referencing                  0.30.2\n",
      "regex                        2024.4.28\n",
      "requests                     2.31.0\n",
      "rfc3339-validator            0.1.4\n",
      "rfc3986-validator            0.1.1\n",
      "rich                         13.7.1\n",
      "rpds-py                      0.10.6\n",
      "scikit-learn                 1.2.2\n",
      "scikit-multilearn            0.2.0\n",
      "scipy                        1.11.4\n",
      "seaborn                      0.13.2\n",
      "Send2Trash                   1.8.2\n",
      "setuptools                   68.2.2\n",
      "six                          1.16.0\n",
      "sniffio                      1.3.0\n",
      "soupsieve                    2.5\n",
      "stack-data                   0.2.0\n",
      "statsmodels                  0.14.0\n",
      "tensorboard                  2.16.2\n",
      "tensorboard-data-server      0.7.2\n",
      "tensorflow                   2.16.1\n",
      "tensorflow-io-gcs-filesystem 0.37.0\n",
      "termcolor                    2.4.0\n",
      "terminado                    0.17.1\n",
      "threadpoolctl                2.2.0\n",
      "tinycss2                     1.2.1\n",
      "tornado                      6.3.3\n",
      "tqdm                         4.66.2\n",
      "traitlets                    5.7.1\n",
      "typing_extensions            4.9.0\n",
      "tzdata                       2023.3\n",
      "urllib3                      1.26.18\n",
      "wcwidth                      0.2.5\n",
      "webencodings                 0.5.1\n",
      "websocket-client             0.58.0\n",
      "Werkzeug                     3.0.2\n",
      "wheel                        0.41.2\n",
      "wrapt                        1.16.0\n",
      "xgboost                      2.0.3\n",
      "Note: you may need to restart the kernel to use updated packages.\n"
     ]
    }
   ],
   "source": [
    "pip list"
   ]
  },
  {
   "cell_type": "code",
   "execution_count": 52,
   "metadata": {},
   "outputs": [],
   "source": [
    "# tf.get_logger().setLevel('ERROR')"
   ]
  },
  {
   "cell_type": "code",
   "execution_count": 53,
   "metadata": {},
   "outputs": [],
   "source": [
    "train_data = pd.DataFrame(columns=['text','label'])\n",
    "test_data = pd.DataFrame(columns=['text','label'])\n",
    "unique_word = set()"
   ]
  },
  {
   "cell_type": "code",
   "execution_count": 54,
   "metadata": {},
   "outputs": [],
   "source": [
    "def label_files(directory, label):\n",
    "    for filename in os.listdir(directory):\n",
    "\n",
    "        file_index = int(filename[2:filename.find(\"_\")]) \n",
    "\n",
    "        with open(os.path.join(directory, filename), 'r', encoding='utf-8') as file:\n",
    "            text = file.read().lower()\n",
    "            text = re.sub(r'\\d+', '', text)  # Remove numbers\n",
    "            text = re.sub(r'[^\\w\\s]', '', text)  # Remove punctuation\n",
    "            new_row = {'text':text, 'label':label}\n",
    "            unique_word.update(text.split())\n",
    "            \n",
    "            if 0 <= file_index <= 699:\n",
    "                train_data.loc[len(train_data)]=new_row\n",
    "            elif 700 <= file_index <= 999:\n",
    "                test_data.loc[len(test_data)]=new_row"
   ]
  },
  {
   "cell_type": "code",
   "execution_count": 55,
   "metadata": {},
   "outputs": [],
   "source": [
    "label_files(\"../Data/pos\",1)\n",
    "label_files(\"../Data/neg\",0)"
   ]
  },
  {
   "cell_type": "code",
   "execution_count": 56,
   "metadata": {},
   "outputs": [
    {
     "name": "stdout",
     "output_type": "stream",
     "text": [
      "1400\n",
      "600\n"
     ]
    }
   ],
   "source": [
    "print(len(train_data))\n",
    "print(len(test_data))"
   ]
  },
  {
   "cell_type": "code",
   "execution_count": 57,
   "metadata": {},
   "outputs": [],
   "source": [
    "length = pd.Series()\n",
    "length = pd.concat([train_data['text'].str.split().str.len(), test_data['text'].str.split().str.len()],ignore_index=True)\n",
    "average = length.mean()\n",
    "std = length.std()"
   ]
  },
  {
   "cell_type": "code",
   "execution_count": 58,
   "metadata": {},
   "outputs": [
    {
     "name": "stdout",
     "output_type": "stream",
     "text": [
      "Number of unique words: 47037\n",
      "Average review length: 644.36 words\n",
      "Standard deviation of review lengths: 285.05 words\n"
     ]
    }
   ],
   "source": [
    "print(f\"Number of unique words: {len (unique_word) }\")\n",
    "print (f\"Average review length: {average:.2f} words\")\n",
    "print(f\"Standard deviation of review lengths: {std:.2f} words\")"
   ]
  },
  {
   "cell_type": "code",
   "execution_count": 59,
   "metadata": {},
   "outputs": [
    {
     "data": {
      "text/plain": [
       "(array([ 75., 537., 743., 417., 136.,  53.,  23.,  13.,   0.,   3.]),\n",
       " array([  16. ,  250.7,  485.4,  720.1,  954.8, 1189.5, 1424.2, 1658.9,\n",
       "        1893.6, 2128.3, 2363. ]),\n",
       " <BarContainer object of 10 artists>)"
      ]
     },
     "execution_count": 59,
     "metadata": {},
     "output_type": "execute_result"
    },
    {
     "data": {
      "image/png": "[encoded data removed]",
      "text/plain": [
       "<Figure size 640x480 with 1 Axes>"
      ]
     },
     "metadata": {},
     "output_type": "display_data"
    }
   ],
   "source": [
    "plt.hist(length)"
   ]
  },
  {
   "cell_type": "code",
   "execution_count": 60,
   "metadata": {},
   "outputs": [],
   "source": [
    "X_train = train_data['text']\n",
    "y_train = train_data['label']\n",
    "X_test = test_data['text']\n",
    "y_test = test_data['label']"
   ]
  },
  {
   "cell_type": "code",
   "execution_count": 61,
   "metadata": {},
   "outputs": [
    {
     "name": "stdout",
     "output_type": "stream",
     "text": [
      "{'the': 1, 'a': 2, 'and': 3, 'of': 4, 'to': 5, 'is': 6, 'in': 7, 'that': 8, 'it': 9, 'as': 10, 'with': 11, 'for': 12, 'his': 13, 'this': 14, 'film': 15, 'but': 16, 'he': 17, 'i': 18, 'on': 19, 'are': 20, 'by': 21, 'its': 22, 'be': 23, 'an': 24, 'one': 25, 'not': 26, 'who': 27, 'movie': 28, 'at': 29, 'was': 30, 'from': 31, 'have': 32, 'has': 33, 'you': 34, 'her': 35, 'they': 36, 'all': 37, 'like': 38, 'so': 39, 'out': 40, 'about': 41, 'more': 42, 'when': 43, 'which': 44, 'up': 45, 'or': 46, 'what': 47, 'their': 48, 'some': 49, 'just': 50, 'if': 51, 'there': 52, 'into': 53, 'him': 54, 'she': 55, 'even': 56, 'only': 57, 'no': 58, 'than': 59, 'good': 60, 'we': 61, 'time': 62, 'most': 63, 'can': 64, 'will': 65, 'films': 66, 'story': 67, 'been': 68, 'would': 69, 'much': 70, 'also': 71, 'get': 72, 'characters': 73, 'other': 74, 'do': 75, 'character': 76, 'very': 77, 'them': 78, 'first': 79, 'two': 80, 'see': 81, 'after': 82, 'well': 83, 'way': 84, 'because': 85, 'does': 86, 'really': 87, 'make': 88, 'too': 89, 'any': 90, 'had': 91, 'little': 92, 'while': 93, 'plot': 94, 'how': 95, 'life': 96, 'then': 97, 'me': 98, 'where': 99, 'off': 100, 'were': 101, 'people': 102, 'scene': 103, 'bad': 104, 'could': 105, 'my': 106, 'movies': 107, 'best': 108, 'never': 109, 'these': 110, 'over': 111, 'being': 112, 'man': 113, 'new': 114, 'doesnt': 115, 'many': 116, 'know': 117, 'scenes': 118, 'dont': 119, 'such': 120, 'through': 121, 'hes': 122, 'great': 123, 's': 124, 'here': 125, 'go': 126, 'another': 127, 'end': 128, 'something': 129, 'love': 130, 'action': 131, 'seems': 132, 'director': 133, 'us': 134, 'still': 135, 'theres': 136, 'back': 137, 'work': 138, 'made': 139, 'however': 140, 'now': 141, 'those': 142, 'world': 143, 'years': 144, 'before': 145, 'big': 146, 'makes': 147, 'few': 148, 'every': 149, 'though': 150, 'seen': 151, 'between': 152, 'around': 153, 'both': 154, 'better': 155, 'gets': 156, 'enough': 157, 'may': 158, 'audience': 159, 'performance': 160, 'role': 161, 'real': 162, 'should': 163, 'take': 164, 'down': 165, 'your': 166, 'going': 167, 'why': 168, 'things': 169, 'isnt': 170, 'same': 171, 'think': 172, 'last': 173, 'actually': 174, 'almost': 175, 'funny': 176, 'thing': 177, 'look': 178, 'although': 179, 'script': 180, 'comedy': 181, 'thats': 182, 'own': 183, 'right': 184, 'say': 185, 'cast': 186, 'nothing': 187, 'did': 188, 'find': 189, 'plays': 190, 'played': 191, 'long': 192, 'fact': 193, 'since': 194, 'come': 195, 'john': 196, 'old': 197, 'young': 198, 'ever': 199, 'comes': 200, 'part': 201, 'actors': 202, 'show': 203, 'least': 204, 'without': 205, 'each': 206, 'lot': 207, 'star': 208, 'acting': 209, 'goes': 210, 'again': 211, 'during': 212, 'original': 213, 'takes': 214, 'point': 215, 'course': 216, 'quite': 217, 'himself': 218, 'away': 219, 'interesting': 220, 'year': 221, 'im': 222, 'must': 223, 'minutes': 224, 'effects': 225, 'family': 226, 'cant': 227, 'screen': 228, 'might': 229, 'anything': 230, 'far': 231, 'rather': 232, 'place': 233, 'day': 234, 'three': 235, 'guy': 236, 'our': 237, 'yet': 238, 'seem': 239, 'kind': 240, 'having': 241, 'didnt': 242, 'once': 243, 'special': 244, 'fun': 245, 'give': 246, 'instead': 247, 'times': 248, 'american': 249, 'home': 250, 'sense': 251, 'bit': 252, 'always': 253, 'watch': 254, 'wife': 255, 'along': 256, 'becomes': 257, 'picture': 258, 'trying': 259, 'help': 260, 'want': 261, 'pretty': 262, 'making': 263, 'job': 264, 'actor': 265, 'woman': 266, 'set': 267, 'become': 268, 'men': 269, 'series': 270, 'probably': 271, 'hollywood': 272, 'together': 273, 'sure': 274, 'given': 275, 'gives': 276, 'whole': 277, 'high': 278, 'watching': 279, 'money': 280, 'feel': 281, 'until': 282, 'death': 283, 'hard': 284, 'dialogue': 285, 'music': 286, 'got': 287, 'less': 288, 'everything': 289, 'perhaps': 290, 'everyone': 291, 'next': 292, 'wants': 293, 'looks': 294, 'sex': 295, 'especially': 296, 'james': 297, 'done': 298, 'father': 299, 'black': 300, 'play': 301, 'different': 302, 'case': 303, 'theyre': 304, 'moments': 305, 'reason': 306, 'performances': 307, 'alien': 308, 'simply': 309, 'put': 310, 'completely': 311, 'whose': 312, 'shows': 313, 'ending': 314, 'rest': 315, 'left': 316, 'itself': 317, 'city': 318, 'anyone': 319, 'horror': 320, 'problem': 321, 'couple': 322, 'shes': 323, 'turns': 324, 'looking': 325, 'several': 326, 'main': 327, 'entire': 328, 'either': 329, 'mind': 330, 'ive': 331, 'humor': 332, 'mother': 333, 'getting': 334, 'small': 335, 'second': 336, 'line': 337, 'half': 338, 'michael': 339, 'against': 340, 'someone': 341, 'lost': 342, 'girl': 343, 'stars': 344, 'comic': 345, 'night': 346, 'thought': 347, 'certainly': 348, 'final': 349, 'else': 350, 'wrong': 351, 'based': 352, 'begins': 353, 'believe': 354, 'playing': 355, 'sequence': 356, 'keep': 357, 'said': 358, 'human': 359, 'later': 360, 'name': 361, 'evil': 362, 'unfortunately': 363, 'dead': 364, 'idea': 365, 'soon': 366, 'true': 367, 'use': 368, 'found': 369, 'tries': 370, 'friends': 371, 'often': 372, 'used': 373, 'under': 374, 'friend': 375, 'works': 376, 'relationship': 377, 'group': 378, 'maybe': 379, 'finally': 380, 'war': 381, 'fight': 382, 'written': 383, 'town': 384, 'david': 385, 'seeing': 386, 'doing': 387, 'school': 388, 'hand': 389, 'tell': 390, 'kids': 391, 'nice': 392, 'called': 393, 'behind': 394, 'able': 395, 'youre': 396, 'despite': 397, 'car': 398, 'house': 399, 'side': 400, 'named': 401, 'game': 402, 'perfect': 403, 'turn': 404, 'hour': 405, 'book': 406, 'including': 407, 'days': 408, 'running': 409, 'dark': 410, 'past': 411, 'person': 412, 'head': 413, 'mr': 414, 'boy': 415, 'shot': 416, 'tv': 417, 'starts': 418, 'directed': 419, 'camera': 420, 'finds': 421, 'run': 422, 'son': 423, 'style': 424, 'upon': 425, 'care': 426, 'face': 427, 'direction': 428, 'worth': 429, 'joe': 430, 'major': 431, 'kevin': 432, 'lives': 433, 'lines': 434, 'moment': 435, 'live': 436, 'supposed': 437, 'others': 438, 'beautiful': 439, 'review': 440, 'knows': 441, 'need': 442, 'worst': 443, 'nearly': 444, 'early': 445, 'daughter': 446, 'classic': 447, 'eyes': 448, 'already': 449, 'title': 450, 'order': 451, 'summer': 452, 'start': 453, 'boring': 454, 'short': 455, 'team': 456, 'opening': 457, 'entertaining': 458, 'production': 459, 'guys': 460, 'example': 461, 'wasnt': 462, 'version': 463, 'fine': 464, 'video': 465, 'full': 466, 'matter': 467, 'violence': 468, 'whos': 469, 'sequences': 470, 'deep': 471, 'throughout': 472, 'jack': 473, 'screenplay': 474, 'space': 475, 'kill': 476, 'exactly': 477, 'try': 478, 'obvious': 479, 'supporting': 480, 'let': 481, 'drama': 482, 'children': 483, 'known': 484, 'hit': 485, 'beginning': 486, 'top': 487, 'save': 488, 'jackie': 489, 'novel': 490, 'body': 491, 'act': 492, 'themselves': 493, 'question': 494, 'roles': 495, 'simple': 496, 'white': 497, 'lead': 498, 'problems': 499, 'saw': 500, 'sort': 501, 'van': 502, 'happens': 503, 'hope': 504, 'killer': 505, 'women': 506, 'wont': 507, 'ends': 508, 'truly': 509, 'sound': 510, 'peter': 511, 'room': 512, 'worse': 513, 'particularly': 514, 'arent': 515, 'earth': 516, 'hell': 517, 'extremely': 518, 'genre': 519, 'thriller': 520, 'robert': 521, 'sometimes': 522, 'planet': 523, 'stupid': 524, 'eventually': 525, 'yes': 526, 'attempt': 527, 'says': 528, 'whats': 529, 'dog': 530, 'jokes': 531, 'taking': 532, 'police': 533, 'quickly': 534, 'appears': 535, 'five': 536, 'living': 537, 'tom': 538, 'manages': 539, 'fiction': 540, 'murder': 541, 'hero': 542, 'coming': 543, 'four': 544, 'wonder': 545, 'voice': 546, 'future': 547, 'stop': 548, 'involved': 549, 'aliens': 550, 'de': 551, 'computer': 552, 'among': 553, 'involving': 554, 'strong': 555, 'wild': 556, 'romantic': 557, 'ship': 558, 'york': 559, 'possible': 560, 'level': 561, 'hours': 562, 'scream': 563, 'late': 564, 'career': 565, 'material': 566, 'attention': 567, 'close': 568, 'girls': 569, 'taken': 570, 'sets': 571, 'heart': 572, 'bring': 573, 'ones': 574, 'emotional': 575, 'meet': 576, 'elements': 577, 'battle': 578, 'williams': 579, 'result': 580, 'killed': 581, 'number': 582, 'fall': 583, 'feature': 584, 'experience': 585, 'mostly': 586, 'science': 587, 'tells': 588, 'happen': 589, 'features': 590, 'child': 591, 'george': 592, 'obviously': 593, 'talent': 594, 'words': 595, 'mean': 596, 'impressive': 597, 'parents': 598, 'wonderful': 599, 'chance': 600, 'talk': 601, 'apparently': 602, 'note': 603, 'laugh': 604, 'leads': 605, 'falls': 606, 'lee': 607, 'guess': 608, 'lack': 609, 'told': 610, 'youll': 611, 'god': 612, 'needs': 613, 'theater': 614, 'leave': 615, 'success': 616, 'brothers': 617, 'brother': 618, 'score': 619, 'interest': 620, 'expect': 621, 'usually': 622, 'laughs': 623, 'across': 624, 'serious': 625, 'middle': 626, 'feels': 627, 'deal': 628, 'poor': 629, 'disney': 630, 'enjoy': 631, 'reality': 632, 'meets': 633, 'husband': 634, 'form': 635, 'piece': 636, 'ben': 637, 'whether': 638, 'release': 639, 'tale': 640, 'except': 641, 'robin': 642, 'easy': 643, 'premise': 644, 'audiences': 645, 'dr': 646, 'batman': 647, 'chris': 648, 'paul': 649, 'none': 650, 'within': 651, 'attempts': 652, 'word': 653, 'crew': 654, 'basically': 655, 'working': 656, 'released': 657, 'alone': 658, 'single': 659, 'mission': 660, 'difficult': 661, 'fans': 662, 'couldnt': 663, 'surprise': 664, 'effective': 665, 'surprisingly': 666, 'sequel': 667, 'somehow': 668, 'call': 669, 'lets': 670, 'history': 671, 'seemed': 672, 'recent': 673, 'ill': 674, 'parts': 675, 'whom': 676, 'suspense': 677, 'stuff': 678, 'giving': 679, 'rock': 680, 'local': 681, 'strange': 682, 'easily': 683, 'feeling': 684, 'art': 685, 'due': 686, 'viewers': 687, 'blood': 688, 'using': 689, 'girlfriend': 690, 'change': 691, 'oh': 692, 'somewhat': 693, 'filmmakers': 694, 'happy': 695, 'cool': 696, 'credits': 697, 'ago': 698, 'turned': 699, 'went': 700, 'read': 701, 'figure': 702, 'forced': 703, 'similar': 704, 'mystery': 705, 'writing': 706, 'am': 707, 'amazing': 708, 'smith': 709, 'return': 710, 'important': 711, 'runs': 712, 'remember': 713, 'brings': 714, 'personal': 715, 'nature': 716, 'youve': 717, 'power': 718, 'brilliant': 719, 'complete': 720, 'hilarious': 721, 'certain': 722, 'starring': 723, 'business': 724, 'ryan': 725, 'giant': 726, 'presence': 727, 'entertainment': 728, 'absolutely': 729, 'familiar': 730, 'stories': 731, 'came': 732, 'television': 733, 'towards': 734, 'latest': 735, 'events': 736, 'wouldnt': 737, 'following': 738, 'popular': 739, 'previous': 740, 'excellent': 741, 'kid': 742, 'rich': 743, 'viewer': 744, 'nor': 745, 'intelligent': 746, 'red': 747, 'king': 748, 'trek': 749, 'anyway': 750, 'die': 751, 'begin': 752, 'id': 753, 'oscar': 754, 'ways': 755, 'uses': 756, 'successful': 757, 'definitely': 758, 'myself': 759, 'bill': 760, 'crime': 761, 'decides': 762, 'beyond': 763, 'slow': 764, 'potential': 765, 'company': 766, 'sam': 767, 'romance': 768, 'predictable': 769, 'means': 770, 'type': 771, 'learn': 772, 'jim': 773, 'light': 774, 'created': 775, 'third': 776, 'mars': 777, 'powerful': 778, 'effect': 779, 'message': 780, 'shots': 781, 'country': 782, 'cut': 783, 'project': 784, 'office': 785, 'huge': 786, 'sexual': 787, 'william': 788, 'opens': 789, 'herself': 790, 'leaving': 791, 'create': 792, 'annoying': 793, 'jones': 794, 'water': 795, 'secret': 796, 'follows': 797, 'million': 798, 'leaves': 799, 'understand': 800, 'near': 801, 'felt': 802, 'clever': 803, 'straight': 804, 'thinking': 805, 'mark': 806, 'plan': 807, 'animated': 808, 'add': 809, 'america': 810, 'seriously': 811, 'inside': 812, 'dramatic': 813, 'visual': 814, 'cinema': 815, 'large': 816, 'quality': 817, 'force': 818, 'tim': 819, 'situation': 820, 'soundtrack': 821, 'bob': 822, 'age': 823, 'former': 824, 'clear': 825, 'doubt': 826, 'gone': 827, 'move': 828, 'above': 829, 'flick': 830, 'actress': 831, 'immediately': 832, 'happened': 833, 'general': 834, 'usual': 835, 'motion': 836, 'scott': 837, 'merely': 838, 'smart': 839, 'likely': 840, 'writer': 841, 'points': 842, 'escape': 843, 'heard': 844, 'married': 845, 'wedding': 846, 'bunch': 847, 'perfectly': 848, 'murphy': 849, 'cold': 850, 'unlike': 851, 'talking': 852, 'ultimately': 853, 'questions': 854, 'enjoyable': 855, 'solid': 856, 'decent': 857, 'fails': 858, 'dumb': 859, 'present': 860, 'eye': 861, 'realize': 862, 'impossible': 863, 'directors': 864, 'pay': 865, 'moving': 866, 'agent': 867, 'steve': 868, 'follow': 869, 'saying': 870, 'r': 871, 'spend': 872, 'prison': 873, 'dream': 874, 'richard': 875, 'various': 876, 'wait': 877, 'party': 878, 'english': 879, 'mess': 880, 'liked': 881, 'break': 882, 'musical': 883, 'focus': 884, 'neither': 885, 'truth': 886, 'rating': 887, 'cop': 888, 'favorite': 889, 'credit': 890, 'effort': 891, 'eddie': 892, 'took': 893, 'political': 894, 'trouble': 895, 'u': 896, 'private': 897, 'max': 898, 'filled': 899, 'actual': 900, 'spent': 901, 'slightly': 902, 'appear': 903, 'keeps': 904, 'subject': 905, 'fast': 906, 'suddenly': 907, 'totally': 908, 'entirely': 909, 'biggest': 910, 'wars': 911, 'silly': 912, 'harry': 913, 'element': 914, 'thinks': 915, 'showing': 916, 'carter': 917, 'villain': 918, 'army': 919, 'depth': 920, 'park': 921, 'control': 922, 'sweet': 923, 'fan': 924, 'studio': 925, 'brought': 926, 'havent': 927, 'setting': 928, 'chase': 929, 'th': 930, 'titanic': 931, 'animation': 932, 'minute': 933, 'song': 934, 'martin': 935, 'greatest': 936, 'box': 937, 'critics': 938, 'talented': 939, 'overall': 940, 'otherwise': 941, 'scary': 942, 'expected': 943, 'open': 944, 'ten': 945, 'boys': 946, 'stay': 947, 'offers': 948, 'terrible': 949, 'ii': 950, 'teen': 951, 'memorable': 952, 'bruce': 953, 'earlier': 954, 'approach': 955, 'typical': 956, 'island': 957, 'disaster': 958, 'view': 959, 'moves': 960, 'state': 961, 'l': 962, 'dull': 963, 'ability': 964, 'members': 965, 'delivers': 966, 'ideas': 967, 'brief': 968, 'sight': 969, 'exciting': 970, 'indeed': 971, 'dreams': 972, 'incredibly': 973, 'gave': 974, 'hands': 975, 'female': 976, 'hate': 977, 'nick': 978, 'modern': 979, 'cinematography': 980, 'killing': 981, 'waste': 982, 'cannot': 983, 'provides': 984, 'cameron': 985, 'amount': 986, 'beauty': 987, 'ask': 988, 'sees': 989, 'minor': 990, 'subplot': 991, 'whatever': 992, 'mary': 993, 'purpose': 994, 'west': 995, 'wish': 996, 'society': 997, 'tension': 998, 'class': 999, 'outside': 1000, 'lots': 1001, 'scifi': 1002, 'quick': 1003, 'master': 1004, 'frank': 1005, 'air': 1006, 'clearly': 1007, 'humans': 1008, 'constantly': 1009, 'aspect': 1010, 'sit': 1011, 'screenwriter': 1012, 'band': 1013, 'trailer': 1014, 'college': 1015, 'ridiculous': 1016, 'government': 1017, 'carry': 1018, 'provide': 1019, 'violent': 1020, 'particular': 1021, 'opportunity': 1022, 'images': 1023, 'fear': 1024, 'singer': 1025, 'jerry': 1026, 'longer': 1027, 'j': 1028, 'meanwhile': 1029, 'charm': 1030, 'awful': 1031, 'hear': 1032, 'law': 1033, 'tarzan': 1034, 'somewhere': 1035, 'six': 1036, 'sent': 1037, 'gun': 1038, 'fire': 1039, 'impact': 1040, 'british': 1041, 'recently': 1042, 'convincing': 1043, 'famous': 1044, 'complex': 1045, 'possibly': 1046, 'road': 1047, 'average': 1048, 'atmosphere': 1049, 'stand': 1050, 'steven': 1051, 'chan': 1052, 'detective': 1053, 'terrific': 1054, 'puts': 1055, 'sounds': 1056, 'songs': 1057, 'situations': 1058, 'bond': 1059, 'telling': 1060, 'months': 1061, 'key': 1062, 'e': 1063, 'alive': 1064, 'list': 1065, 'twists': 1066, 'occasionally': 1067, 'flat': 1068, 'further': 1069, 'plenty': 1070, 'wrote': 1071, 'details': 1072, 'front': 1073, 'basic': 1074, 'drug': 1075, 'shown': 1076, 'seemingly': 1077, 'hold': 1078, 'la': 1079, 'mysterious': 1080, 'language': 1081, 'thus': 1082, 'forget': 1083, 'joke': 1084, 'slowly': 1085, 'writers': 1086, 'race': 1087, 'proves': 1088, 'wanted': 1089, 'conclusion': 1090, 'club': 1091, 'miss': 1092, 'amusing': 1093, 'rated': 1094, 'choice': 1095, 'image': 1096, 'common': 1097, 'carrey': 1098, 'truman': 1099, 'caught': 1100, 'subtle': 1101, 'looked': 1102, 'sean': 1103, 'reasons': 1104, 't': 1105, 'mike': 1106, 'okay': 1107, 'catch': 1108, 'willis': 1109, 'apart': 1110, 'knew': 1111, 'sister': 1112, 'trip': 1113, 'ready': 1114, 'news': 1115, 'energy': 1116, 'bizarre': 1117, 'allen': 1118, 'boss': 1119, 'godzilla': 1120, 'cinematic': 1121, 'fairly': 1122, 'douglas': 1123, 'appearance': 1124, 'theme': 1125, 'ride': 1126, 'climax': 1127, 'free': 1128, 'tone': 1129, 'budget': 1130, 'aside': 1131, 'pictures': 1132, 'member': 1133, 'casting': 1134, 'admit': 1135, 'doctor': 1136, 'consider': 1137, 'billy': 1138, 'highly': 1139, 'believable': 1140, 'development': 1141, 'cute': 1142, 'latter': 1143, 'central': 1144, 'leading': 1145, 'surprised': 1146, 'equally': 1147, 'cheap': 1148, 'produced': 1149, 'french': 1150, 'considering': 1151, 'low': 1152, 'wasted': 1153, 'pulp': 1154, 'b': 1155, 'realistic': 1156, 'decide': 1157, 'dance': 1158, 'system': 1159, 'background': 1160, 'write': 1161, 'hair': 1162, 'brown': 1163, 'seven': 1164, 'lawyer': 1165, 'jennifer': 1166, 'partner': 1167, 'enjoyed': 1168, 'contains': 1169, 'yourself': 1170, 'needed': 1171, 'directing': 1172, 'laughing': 1173, 'chemistry': 1174, 'thrown': 1175, 'deserves': 1176, 'imagine': 1177, 'pace': 1178, 'baby': 1179, 'thanks': 1180, 'storyline': 1181, 'cage': 1182, 'street': 1183, 'learns': 1184, 'interested': 1185, 'fellow': 1186, 'd': 1187, 'ground': 1188, 'genuine': 1189, 'lies': 1190, 'event': 1191, 'store': 1192, 'adult': 1193, 'president': 1194, 'land': 1195, 'woody': 1196, 'julia': 1197, 'simon': 1198, 'faces': 1199, 'blue': 1200, 'flaws': 1201, 'door': 1202, 'remains': 1203, 'opinion': 1204, 'queen': 1205, 'states': 1206, 'pull': 1207, 'leader': 1208, 'monster': 1209, 'discovers': 1210, 'green': 1211, 'adds': 1212, 'student': 1213, 'footage': 1214, 'asks': 1215, 'share': 1216, 'presented': 1217, 'led': 1218, 'onto': 1219, 'involves': 1220, 'fantasy': 1221, 'officer': 1222, 'unique': 1223, 'thin': 1224, 'apartment': 1225, 'nights': 1226, 'food': 1227, 'standard': 1228, 'missing': 1229, 'stone': 1230, 'youd': 1231, 'mulan': 1232, 'grace': 1233, 'henry': 1234, 'stands': 1235, 'today': 1236, 'introduced': 1237, 'odd': 1238, 'returns': 1239, 'heavy': 1240, 'vampire': 1241, 'period': 1242, 'nicely': 1243, 'touch': 1244, 'hardly': 1245, 'hot': 1246, 'include': 1247, 'dies': 1248, 'heroes': 1249, 'creating': 1250, 'cause': 1251, 'filmmaking': 1252, 'jackson': 1253, 'natural': 1254, 'apparent': 1255, 'legend': 1256, 'intelligence': 1257, 'sadly': 1258, 'etc': 1259, 'fighting': 1260, 'affleck': 1261, 'marriage': 1262, 'date': 1263, 'recommend': 1264, 'disturbing': 1265, 'century': 1266, 'older': 1267, 'chinese': 1268, 'personality': 1269, 'waiting': 1270, 'barely': 1271, 'matrix': 1272, 'fashion': 1273, 'likes': 1274, 'silent': 1275, 'alan': 1276, 'normal': 1277, 'hong': 1278, 'search': 1279, 'intended': 1280, 'train': 1281, 'surprising': 1282, 'becoming': 1283, 'saving': 1284, 'mention': 1285, 'walk': 1286, 'cameo': 1287, 'hasnt': 1288, 'gore': 1289, 'public': 1290, 'machine': 1291, 'jason': 1292, 'fresh': 1293, 'academy': 1294, 'answer': 1295, 'appropriate': 1296, 'discover': 1297, 'generation': 1298, 'debut': 1299, 'matthew': 1300, 'jeff': 1301, 'spawn': 1302, 'tough': 1303, 'creates': 1304, 'decided': 1305, 'christopher': 1306, 'male': 1307, 'loved': 1308, 'contact': 1309, 'confused': 1310, 'track': 1311, 'incredible': 1312, 'worked': 1313, 'kong': 1314, 'terms': 1315, 'rush': 1316, 'offer': 1317, 'nowhere': 1318, 'loud': 1319, 'pass': 1320, 'attack': 1321, 'travolta': 1322, 'floor': 1323, 'producer': 1324, 'weve': 1325, 'teacher': 1326, 'julie': 1327, 'matt': 1328, 'manner': 1329, 'rarely': 1330, 'speak': 1331, 'charming': 1332, 'appreciate': 1333, 'became': 1334, 'exception': 1335, 'hanks': 1336, 'match': 1337, 'victim': 1338, 'forces': 1339, 'younger': 1340, 'campbell': 1341, 'gay': 1342, 'generally': 1343, 'talents': 1344, 'numerous': 1345, 'pointless': 1346, 'troopers': 1347, 'rob': 1348, 'viewing': 1349, 'mrs': 1350, 'concept': 1351, 'adventure': 1352, 'virtually': 1353, 'detail': 1354, 'mouth': 1355, 'editing': 1356, 'cops': 1357, 'social': 1358, 'calls': 1359, 'rescue': 1360, 'camp': 1361, 'pure': 1362, 'elizabeth': 1363, 'shame': 1364, 'captain': 1365, 'please': 1366, 'cover': 1367, 'filmed': 1368, 'product': 1369, 'actions': 1370, 'witty': 1371, 'pieces': 1372, 'fox': 1373, 'kate': 1374, 'includes': 1375, 'toward': 1376, 'culture': 1377, 'twice': 1378, 'creepy': 1379, 'lose': 1380, 'superior': 1381, 'revenge': 1382, 'jr': 1383, 'stephen': 1384, 'apes': 1385, 'sad': 1386, 'rules': 1387, 'pop': 1388, 'disappointing': 1389, 'meant': 1390, 'addition': 1391, 'station': 1392, 'places': 1393, 'avoid': 1394, 'intriguing': 1395, 'task': 1396, 'building': 1397, 'expectations': 1398, 'allows': 1399, 'throw': 1400, 'arts': 1401, 'starship': 1402, 'necessary': 1403, 'weak': 1404, 'kelly': 1405, 'color': 1406, 'accent': 1407, 'twist': 1408, 'bringing': 1409, 'tried': 1410, 'urban': 1411, 'heads': 1412, 'charles': 1413, 'kept': 1414, 'changes': 1415, 'win': 1416, 'larry': 1417, 'literally': 1418, 'journey': 1419, 'emotions': 1420, 'horrible': 1421, 'magic': 1422, 'speech': 1423, 'prove': 1424, 'creature': 1425, 'edward': 1426, 'drive': 1427, 'desperate': 1428, 'rocky': 1429, 'accident': 1430, 'danny': 1431, 'buy': 1432, 'industry': 1433, 'jay': 1434, 'stuart': 1435, 'considered': 1436, 'fbi': 1437, 'continues': 1438, 'damn': 1439, 'loves': 1440, 'graphic': 1441, 'double': 1442, 'stunning': 1443, 'christmas': 1444, 'pathetic': 1445, 'lame': 1446, 'step': 1447, 'willing': 1448, 'themes': 1449, 'fully': 1450, 'pg': 1451, 'reach': 1452, 'explain': 1453, 'fair': 1454, 'lacks': 1455, 'issues': 1456, 'born': 1457, 'field': 1458, 'players': 1459, 'bugs': 1460, 'patch': 1461, 'comedies': 1462, 'mood': 1463, 'superb': 1464, 'weird': 1465, 'teenage': 1466, 'window': 1467, 'directly': 1468, 'reveal': 1469, 'lucas': 1470, 'frightening': 1471, 'epic': 1472, 'adults': 1473, 'goal': 1474, 'allow': 1475, 'forward': 1476, 'sympathetic': 1477, 'thomas': 1478, 'ray': 1479, 'theaters': 1480, 'plans': 1481, 'games': 1482, 'physical': 1483, 'bland': 1484, 'vegas': 1485, 'touching': 1486, 'anderson': 1487, 'ed': 1488, 'toy': 1489, 'ice': 1490, 'blade': 1491, 'count': 1492, 'pair': 1493, 'united': 1494, 'attitude': 1495, 'difference': 1496, 'owner': 1497, 'forever': 1498, 'keeping': 1499, 'content': 1500, 'wonderfully': 1501, 'affair': 1502, 'grand': 1503, 'relief': 1504, 'spends': 1505, 'inspired': 1506, 'sitting': 1507, 'developed': 1508, 'ok': 1509, 'kiss': 1510, 'managed': 1511, 'gags': 1512, 'bored': 1513, 'damon': 1514, 'm': 1515, 'documentary': 1516, 'flynt': 1517, 'failed': 1518, 'shallow': 1519, 'price': 1520, 'holds': 1521, 'limited': 1522, 'edge': 1523, 'russell': 1524, 'hill': 1525, 'design': 1526, 'angry': 1527, 'identity': 1528, 'blame': 1529, 'crazy': 1530, 'rare': 1531, 'fare': 1532, 'cartoon': 1533, 'episode': 1534, 'join': 1535, 'hall': 1536, 'serve': 1537, 'formula': 1538, 'wayne': 1539, 'ripley': 1540, 'gibson': 1541, 'reviews': 1542, 'humanity': 1543, 'hits': 1544, 'boat': 1545, 'featuring': 1546, 'current': 1547, 'criminal': 1548, 'setup': 1549, 'information': 1550, 'appeal': 1551, 'portrayal': 1552, 'comedic': 1553, 'roger': 1554, 'mans': 1555, 'suspect': 1556, 'woods': 1557, 'mentioned': 1558, 'ghost': 1559, 'shouldnt': 1560, 'respect': 1561, 'jane': 1562, 'chosen': 1563, 'artist': 1564, 'military': 1565, 'results': 1566, 'flicks': 1567, 'adams': 1568, 'twenty': 1569, 'tony': 1570, 'bright': 1571, 'dennis': 1572, 'martial': 1573, 'dvd': 1574, 'notice': 1575, 'soul': 1576, 'technical': 1577, 'matters': 1578, 'week': 1579, 'target': 1580, 'books': 1581, 'process': 1582, 'opposite': 1583, 'vincent': 1584, 'welcome': 1585, 'relationships': 1586, 'device': 1587, 'driver': 1588, 'plane': 1589, 'promise': 1590, 'asked': 1591, 'stage': 1592, 'mm': 1593, 'wit': 1594, 'died': 1595, 'ms': 1596, 'sandler': 1597, 'poorly': 1598, 'contrived': 1599, 'killers': 1600, 'babe': 1601, 'flying': 1602, 'emotion': 1603, 'reading': 1604, 'meaning': 1605, 'fate': 1606, 'spirit': 1607, 'figures': 1608, 'aspects': 1609, 'imagination': 1610, 'speed': 1611, 'realized': 1612, 'total': 1613, 'award': 1614, 'dad': 1615, 'writerdirector': 1616, 'mel': 1617, 'determined': 1618, 'plus': 1619, 'portrayed': 1620, 'finale': 1621, 'succeeds': 1622, 'remake': 1623, 'dollars': 1624, 'suppose': 1625, 'folks': 1626, 'speaking': 1627, 'japanese': 1628, 'deliver': 1629, 'cruise': 1630, 'crap': 1631, 'don': 1632, 'scale': 1633, 'ass': 1634, 'species': 1635, 'compared': 1636, 'fascinating': 1637, 'provided': 1638, 'meeting': 1639, 'kills': 1640, 'dangerous': 1641, 'professional': 1642, 'humour': 1643, 'spielberg': 1644, 'masterpiece': 1645, 'devil': 1646, 'impression': 1647, 'supposedly': 1648, 'attractive': 1649, 'wide': 1650, 'sign': 1651, 'helps': 1652, 'stuck': 1653, 'surface': 1654, 'pain': 1655, 'walking': 1656, 'rose': 1657, 'powers': 1658, 'struggle': 1659, 'pick': 1660, 'mix': 1661, 'grows': 1662, 'board': 1663, 'singing': 1664, 'constant': 1665, 'lord': 1666, 'continue': 1667, 'innocent': 1668, 'shock': 1669, 'hospital': 1670, 'blair': 1671, 'patrick': 1672, 'g': 1673, 'gang': 1674, 'crash': 1675, 'started': 1676, 'hollow': 1677, 'tarantino': 1678, 'protagonist': 1679, 'catherine': 1680, 'falling': 1681, 'cliches': 1682, 'unless': 1683, 'conflict': 1684, 'plain': 1685, 'slasher': 1686, 'zero': 1687, 'shoot': 1688, 'jonathan': 1689, 'arrives': 1690, 'presents': 1691, 'creative': 1692, 'engaging': 1693, 'witch': 1694, 'travel': 1695, 'makeup': 1696, 'turning': 1697, 'nasty': 1698, 'destroy': 1699, 'began': 1700, 'expecting': 1701, 'exist': 1702, 'feet': 1703, 'lover': 1704, 'boyfriend': 1705, 'support': 1706, 'gary': 1707, 'loses': 1708, 'radio': 1709, 'names': 1710, 'helen': 1711, 'honest': 1712, 'disneys': 1713, 'rising': 1714, 'heres': 1715, 'unfunny': 1716, 'yeah': 1717, 'individual': 1718, 'winning': 1719, 'responsible': 1720, 'trust': 1721, 'emotionally': 1722, 'shooting': 1723, 'roll': 1724, 'sick': 1725, 'vampires': 1726, 'cult': 1727, 'spectacular': 1728, 'hurt': 1729, 'humorous': 1730, 'ford': 1731, 'phone': 1732, 'drugs': 1733, 'brian': 1734, 'snake': 1735, 'appealing': 1736, 'fake': 1737, 'added': 1738, 'sexy': 1739, 'satire': 1740, 'damme': 1741, 'below': 1742, 'included': 1743, 'watched': 1744, 'won': 1745, 'angels': 1746, 'genius': 1747, 'suggest': 1748, 'visually': 1749, 'efforts': 1750, 'fantastic': 1751, 'check': 1752, 'eccentric': 1753, 'sheer': 1754, 'feelings': 1755, 'winner': 1756, 'lady': 1757, 'seconds': 1758, 'boogie': 1759, 'narrative': 1760, 'stock': 1761, 'nobody': 1762, 'drawn': 1763, 'media': 1764, 'era': 1765, 'beast': 1766, 'guns': 1767, 'evidence': 1768, 'strike': 1769, 'rent': 1770, 'professor': 1771, 'fit': 1772, 'happening': 1773, 'hotel': 1774, 'instance': 1775, 'decision': 1776, 'c': 1777, 'bloody': 1778, 'victims': 1779, 'synopsis': 1780, 'crowd': 1781, 'missed': 1782, 'ultimate': 1783, 'soldiers': 1784, 'spice': 1785, 'filmmaker': 1786, 'vision': 1787, 'rate': 1788, 'accept': 1789, 'cares': 1790, 'sky': 1791, 'confusing': 1792, 'bobby': 1793, 'mob': 1794, 'steal': 1795, 'dying': 1796, 'baldwin': 1797, 'manage': 1798, 'failure': 1799, 'woo': 1800, 'jimmy': 1801, 'guilty': 1802, 'wrestling': 1803, 'adaptation': 1804, 'arnold': 1805, 'position': 1806, 'survive': 1807, 'flashbacks': 1808, 'eric': 1809, 'visit': 1810, 'available': 1811, 'frame': 1812, 'security': 1813, 'remain': 1814, 'enter': 1815, 'hidden': 1816, 'visuals': 1817, 'utterly': 1818, 'lucky': 1819, 'greater': 1820, 'moore': 1821, 'teenagers': 1822, 'excuse': 1823, 'frequently': 1824, 'wall': 1825, 'followed': 1826, 'press': 1827, 'record': 1828, 'amy': 1829, 'worthy': 1830, 'ended': 1831, 'hunter': 1832, 'finding': 1833, 'jon': 1834, 'hoping': 1835, 'broken': 1836, 'south': 1837, 'reeves': 1838, 'yearold': 1839, 'jedi': 1840, 'dude': 1841, 'originally': 1842, 'moral': 1843, 'changed': 1844, 'surprises': 1845, 'extreme': 1846, 'gotten': 1847, 'remarkable': 1848, 'outstanding': 1849, 'clich': 1850, 'serial': 1851, 'drunken': 1852, 'hopkins': 1853, 'cross': 1854, 'jail': 1855, 'fail': 1856, 'fat': 1857, 'therefore': 1858, 'suspects': 1859, 'court': 1860, 'oliver': 1861, 'chief': 1862, 'quiet': 1863, 'vehicle': 1864, 'hey': 1865, 'community': 1866, 'loving': 1867, 'veteran': 1868, 'smile': 1869, 'player': 1870, 'roberts': 1871, 'league': 1872, 'technology': 1873, 'draw': 1874, 'tommy': 1875, 'washington': 1876, 'o': 1877, 'offensive': 1878, 'nuclear': 1879, 'badly': 1880, 'shrek': 1881, 'hunting': 1882, 'bottom': 1883, 'daniel': 1884, 'relatively': 1885, 'hopes': 1886, 'realizes': 1887, 'deals': 1888, 'pacing': 1889, 'path': 1890, 'compelling': 1891, 'hunt': 1892, 'menace': 1893, 'crystal': 1894, 'desire': 1895, 'sorry': 1896, 'test': 1897, 'wondering': 1898, 'subplots': 1899, 'skin': 1900, 'sarah': 1901, 'virus': 1902, 'skills': 1903, 'cash': 1904, 'substance': 1905, 'characterization': 1906, 'safe': 1907, 'exact': 1908, 'perspective': 1909, 'center': 1910, 'laughable': 1911, 'dean': 1912, 'cusack': 1913, 'morning': 1914, 'comparison': 1915, 'essentially': 1916, 'pleasure': 1917, 'thoroughly': 1918, 'alice': 1919, 'tired': 1920, 'freedom': 1921, 'learned': 1922, 'mediocre': 1923, 'anthony': 1924, 'streets': 1925, 'producers': 1926, 'mad': 1927, 'grow': 1928, 'stick': 1929, 'likable': 1930, 'fame': 1931, 'neil': 1932, 'mistake': 1933, 'wise': 1934, 'ted': 1935, 'routine': 1936, 'lovely': 1937, 'football': 1938, 'explanation': 1939, 'onscreen': 1940, 'sea': 1941, 'luck': 1942, 'parody': 1943, 'clooney': 1944, 'bar': 1945, 'annie': 1946, 'myers': 1947, 'grant': 1948, 'oneliners': 1949, 'monkey': 1950, 'length': 1951, 'harris': 1952, 'source': 1953, 'claire': 1954, 'existence': 1955, 'gold': 1956, 'forgotten': 1957, 'serves': 1958, 'cinematographer': 1959, 'brain': 1960, 'ahead': 1961, 'seat': 1962, 'satisfying': 1963, 'joel': 1964, 'costumes': 1965, 'fish': 1966, 'disappointment': 1967, 'charlie': 1968, 'send': 1969, 'beach': 1970, 'worlds': 1971, 'bank': 1972, 'adam': 1973, 'joan': 1974, 'villains': 1975, 'reminiscent': 1976, 'storm': 1977, 'previously': 1978, 'ugly': 1979, 'overly': 1980, 'guard': 1981, 'dragon': 1982, 'growing': 1983, 'connection': 1984, 'animal': 1985, 'screenwriters': 1986, 'wood': 1987, 'occur': 1988, 'pulled': 1989, 'believes': 1990, 'saved': 1991, 'inevitable': 1992, 'study': 1993, 'placed': 1994, 'logic': 1995, 'tradition': 1996, 'agrees': 1997, 'burton': 1998, 'scientist': 1999, 'desperately': 2000, 'german': 2001, 'mental': 2002, 'minds': 2003, 'acts': 2004, 'direct': 2005, 'treat': 2006, 'warning': 2007, 'opera': 2008, 'attacks': 2009, 'steals': 2010, 'marry': 2011, 'princess': 2012, 'heaven': 2013, 'standing': 2014, 'cars': 2015, 'students': 2016, 'obsessed': 2017, 'bed': 2018, 'goofy': 2019, 'aware': 2020, 'creatures': 2021, 'horse': 2022, 'russian': 2023, 'halloween': 2024, 'chicken': 2025, 'christian': 2026, 'season': 2027, 'courtroom': 2028, 'investigation': 2029, 'halfway': 2030, 'contrast': 2031, 'clean': 2032, 'medical': 2033, 'encounter': 2034, 'breaks': 2035, 'dogs': 2036, 'empty': 2037, 'faith': 2038, 'eat': 2039, 'intense': 2040, 'london': 2041, 'gangster': 2042, 'independence': 2043, 'build': 2044, 'value': 2045, 'rival': 2046, 'suit': 2047, 'thankfully': 2048, 'quest': 2049, 'memory': 2050, 'breaking': 2051, 'thrillers': 2052, 'stops': 2053, 'keaton': 2054, 'porn': 2055, 'develop': 2056, 'joy': 2057, 'cheesy': 2058, 'rain': 2059, 'lacking': 2060, 'murders': 2061, 'nudity': 2062, 'armageddon': 2063, 'taylor': 2064, 'reminded': 2065, 'behavior': 2066, 'cell': 2067, 'describe': 2068, 'haunting': 2069, 'terror': 2070, 'brad': 2071, 'capable': 2072, 'decade': 2073, 'self': 2074, 'childhood': 2075, 'deadly': 2076, 'national': 2077, 'baseball': 2078, 'intensity': 2079, 'cliched': 2080, 'bus': 2081, 'niro': 2082, 'signs': 2083, 'rise': 2084, 'arquette': 2085, 'nicholson': 2086, 'talks': 2087, 'ocean': 2088, 'international': 2089, 'beat': 2090, 'knock': 2091, 'mom': 2092, 'welles': 2093, 'barry': 2094, 'ape': 2095, 'critique': 2096, 'plots': 2097, 'discovered': 2098, 'core': 2099, 'fill': 2100, 'sequels': 2101, 'unnecessary': 2102, 'structure': 2103, 'johnny': 2104, 'spot': 2105, 'unexpected': 2106, 'ball': 2107, 'critical': 2108, 'weeks': 2109, 'everybody': 2110, 'soap': 2111, 'voices': 2112, 'extra': 2113, 'nightmare': 2114, 'regular': 2115, 'naked': 2116, 'gonna': 2117, 'pulls': 2118, 'strikes': 2119, 'animals': 2120, 'program': 2121, 'fallen': 2122, 'miller': 2123, 'china': 2124, 'irritating': 2125, 'largely': 2126, 'mickey': 2127, 'melvin': 2128, 'built': 2129, 'terminator': 2130, 'featured': 2131, 'slapstick': 2132, 'paris': 2133, 'judge': 2134, 'choices': 2135, 'touches': 2136, 'sharp': 2137, 'fault': 2138, 'revolves': 2139, 'occasional': 2140, 'mouse': 2141, 'nomination': 2142, 'flaw': 2143, 'bigger': 2144, 'sole': 2145, 'fly': 2146, 'refuses': 2147, 'captured': 2148, 'bomb': 2149, 'historical': 2150, 'knowledge': 2151, 'twisted': 2152, 'understanding': 2153, 'blonde': 2154, 'foot': 2155, 'boxing': 2156, 'weekend': 2157, 'explained': 2158, 'driving': 2159, 'ghosts': 2160, 'dealing': 2161, 'anywhere': 2162, 'concerned': 2163, 'jake': 2164, 'witness': 2165, 'stolen': 2166, 'loose': 2167, 'bitter': 2168, 'positive': 2169, 'painfully': 2170, 'murdered': 2171, 'accidentally': 2172, 'explains': 2173, 'psychological': 2174, 'fifteen': 2175, 'fights': 2176, 'digital': 2177, 'bag': 2178, 'stretch': 2179, 'suspenseful': 2180, 'helped': 2181, 'claims': 2182, 'pitt': 2183, 'besides': 2184, 'commercial': 2185, 'starting': 2186, 'capture': 2187, 'surely': 2188, 'revealed': 2189, 'flash': 2190, 'assistant': 2191, 'studios': 2192, 'afraid': 2193, 'walks': 2194, 'anne': 2195, 'ensemble': 2196, 'significant': 2197, 'covered': 2198, 'sends': 2199, 'sidney': 2200, 'stunts': 2201, 'oddly': 2202, 'weapons': 2203, 'lovers': 2204, 'range': 2205, 'quaid': 2206, 'critic': 2207, 'uninteresting': 2208, 'virtual': 2209, 'schumacher': 2210, 'eve': 2211, 'hired': 2212, 'storytelling': 2213, 'theatrical': 2214, 'commentary': 2215, 'eight': 2216, 'wonders': 2217, 'necessarily': 2218, 'justice': 2219, 'shocking': 2220, 'reveals': 2221, 'investigate': 2222, 'desert': 2223, 'combination': 2224, 'sleep': 2225, 'nevertheless': 2226, 'providing': 2227, 'noir': 2228, 'allowed': 2229, 'succeed': 2230, 'holes': 2231, 'remaining': 2232, 'deeper': 2233, 'elaborate': 2234, 'required': 2235, 'advice': 2236, 'multiple': 2237, 'politics': 2238, 'naturally': 2239, 'al': 2240, 'effectively': 2241, 'danger': 2242, 'overthetop': 2243, 'f': 2244, 'tense': 2245, 'department': 2246, 'encounters': 2247, 'delightful': 2248, 'heavily': 2249, 'punch': 2250, 'pie': 2251, 'asking': 2252, 'disappointed': 2253, 'handled': 2254, 'met': 2255, 'cuts': 2256, 'funniest': 2257, 'costume': 2258, 'blues': 2259, 'unbelievable': 2260, 'metal': 2261, 'trash': 2262, 'theatre': 2263, 'traditional': 2264, 'friendship': 2265, 'vs': 2266, 'frankly': 2267, 'thirty': 2268, 'focuses': 2269, 'hank': 2270, 'kung': 2271, 'fu': 2272, 'comments': 2273, 'initial': 2274, 'strength': 2275, 'forth': 2276, 'wind': 2277, 'enemy': 2278, 'luckily': 2279, 'weapon': 2280, 'bodies': 2281, 'promising': 2282, 'blockbuster': 2283, 'foreign': 2284, 'angel': 2285, 'genuinely': 2286, 'jump': 2287, 'moved': 2288, 'cole': 2289, 'erotic': 2290, 'mainly': 2291, 'hole': 2292, 'explosions': 2293, 'putting': 2294, 'deserve': 2295, 'unlikely': 2296, 'kenneth': 2297, 'ironic': 2298, 'passed': 2299, 'cliche': 2300, 'freeman': 2301, 'pig': 2302, 'instinct': 2303, 'whenever': 2304, 'italian': 2305, 'sisters': 2306, 'england': 2307, 'gattaca': 2308, 'sing': 2309, 'dry': 2310, 'williamson': 2311, 'trilogy': 2312, 'remotely': 2313, 'october': 2314, 'meg': 2315, 'terribly': 2316, 'thoughts': 2317, 'flashback': 2318, 'andrew': 2319, 'unfortunate': 2320, 'vacation': 2321, 'issue': 2322, 'tragedy': 2323, 'experiences': 2324, 'dinner': 2325, 'initially': 2326, 'texas': 2327, 'angle': 2328, 'insight': 2329, 'bore': 2330, 'research': 2331, 'references': 2332, 'root': 2333, 'wears': 2334, 'practically': 2335, 'rule': 2336, 'wear': 2337, 'lake': 2338, 'sympathy': 2339, 'drop': 2340, 'attempting': 2341, 'warm': 2342, 'excitement': 2343, 'thrills': 2344, 'makers': 2345, 'susan': 2346, 'wealthy': 2347, 'colors': 2348, 'fathers': 2349, 'granted': 2350, 'clothes': 2351, 'obligatory': 2352, 'successfully': 2353, 'painful': 2354, 'hundred': 2355, 'causes': 2356, 'werent': 2357, 'arms': 2358, 'picks': 2359, 'memories': 2360, 'drives': 2361, 'suicide': 2362, 'hanging': 2363, 'appearances': 2364, 'suffers': 2365, 'glenn': 2366, 'neve': 2367, 'cable': 2368, 'hopefully': 2369, 'las': 2370, 'odonnell': 2371, 'dirty': 2372, 'bound': 2373, 'gag': 2374, 'conspiracy': 2375, 'teens': 2376, 'unusual': 2377, 'agree': 2378, 'expression': 2379, 'lonely': 2380, 'doors': 2381, 'haunted': 2382, 'dozen': 2383, 'blow': 2384, 'beloved': 2385, 'banderas': 2386, 'values': 2387, 'installment': 2388, 'mainstream': 2389, 'taste': 2390, 'sleepy': 2391, 'jurassic': 2392, 'requires': 2393, 'carpenter': 2394, 'shop': 2395, 'acted': 2396, 'tiny': 2397, 'photography': 2398, 'quirky': 2399, 'complicated': 2400, 'decades': 2401, 'author': 2402, 'drew': 2403, 'display': 2404, 'sell': 2405, 'reaction': 2406, 'homage': 2407, 'perform': 2408, 'jungle': 2409, 'con': 2410, 'fugitive': 2411, 'collection': 2412, 'barrymore': 2413, 'sitcom': 2414, 'risk': 2415, 'wilson': 2416, 'fairy': 2417, 'bone': 2418, 'destroyed': 2419, 'dollar': 2420, 'saturday': 2421, 'handle': 2422, 'alex': 2423, 'stiller': 2424, 'progresses': 2425, 'church': 2426, 'trailers': 2427, 'hype': 2428, 'impressed': 2429, 'midnight': 2430, 'endless': 2431, 'suggests': 2432, 'proceedings': 2433, 'xfiles': 2434, 'directorial': 2435, 'franchise': 2436, 'holiday': 2437, 'tyler': 2438, 'capsule': 2439, 'western': 2440, 'n': 2441, 'walter': 2442, 'importantly': 2443, 'operation': 2444, 'scorsese': 2445, 'market': 2446, 'prior': 2447, 'strangely': 2448, 'miles': 2449, 'knowing': 2450, 'buddy': 2451, 'cowboy': 2452, 'generic': 2453, 'convinced': 2454, 'sports': 2455, 'sidekick': 2456, 'h': 2457, 'table': 2458, 'pilot': 2459, 'psycho': 2460, 'tedious': 2461, 'intentions': 2462, 'spiritual': 2463, 'held': 2464, 'dancing': 2465, 'challenge': 2466, 'inventive': 2467, 'gift': 2468, 'negative': 2469, 'alas': 2470, 'replaced': 2471, 'toys': 2472, 'drunk': 2473, 'caring': 2474, 'lynch': 2475, 'personally': 2476, 'established': 2477, 'cat': 2478, 'unable': 2479, 'generated': 2480, 'imagery': 2481, 'theyve': 2482, 'clue': 2483, 'universal': 2484, 'heroine': 2485, 'nonetheless': 2486, 'narration': 2487, 'circumstances': 2488, 'agents': 2489, 'hint': 2490, 'nine': 2491, 'rick': 2492, 'artistic': 2493, 'originality': 2494, 'wearing': 2495, 'bleak': 2496, 'driven': 2497, 'youth': 2498, 'richards': 2499, 'exchange': 2500, 'wooden': 2501, 'horizon': 2502, 'wins': 2503, 'status': 2504, 'awkward': 2505, 'suits': 2506, 'throwing': 2507, 'passion': 2508, 'notable': 2509, 'warner': 2510, 'murray': 2511, 'delivered': 2512, 'countless': 2513, 'exercise': 2514, 'losing': 2515, 'laughter': 2516, 'introduces': 2517, 'reference': 2518, 'threat': 2519, 'karen': 2520, 'patients': 2521, 'corner': 2522, 'slave': 2523, 'speaks': 2524, 'keanu': 2525, 'mighty': 2526, 'whatsoever': 2527, 'pleasant': 2528, 'wes': 2529, 'stereotypes': 2530, 'bulworth': 2531, 'magazine': 2532, 'recall': 2533, 'tvs': 2534, 'bug': 2535, 'paid': 2536, 'bacon': 2537, 'greg': 2538, 'laughed': 2539, 'notes': 2540, 'adventures': 2541, 'mere': 2542, 'mine': 2543, 'showed': 2544, 'notably': 2545, 'holding': 2546, 'diamond': 2547, 'spy': 2548, 'hearing': 2549, 'prisoners': 2550, 'answers': 2551, 'darkness': 2552, 'fits': 2553, 'helping': 2554, 'rolling': 2555, 'hostage': 2556, 'flesh': 2557, 'malkovich': 2558, 'finest': 2559, 'patient': 2560, 'basis': 2561, 'restaurant': 2562, 'conversation': 2563, 'higher': 2564, 'spacey': 2565, 'religious': 2566, 'designer': 2567, 'bride': 2568, 'conventional': 2569, 'depressing': 2570, 'doom': 2571, 'hoffman': 2572, 'persona': 2573, 'cruel': 2574, 'golden': 2575, 'happiness': 2576, 'movement': 2577, 'occurs': 2578, 'terrifying': 2579, 'breakdown': 2580, 'gratuitous': 2581, 'expert': 2582, 'cutting': 2583, 'k': 2584, 'fortunately': 2585, 'unknown': 2586, 'allowing': 2587, 'notion': 2588, 'embarrassing': 2589, 'robbins': 2590, 'screaming': 2591, 'prince': 2592, 'kilmer': 2593, 'johnson': 2594, 'existenz': 2595, 'tragic': 2596, 'voiced': 2597, 'described': 2598, 'childrens': 2599, 'laura': 2600, 'enjoying': 2601, 'destination': 2602, 'crucial': 2603, 'delight': 2604, 'lie': 2605, 'innocence': 2606, 'settle': 2607, 'qualities': 2608, 'ensues': 2609, 'ships': 2610, 'lewis': 2611, 'internet': 2612, 'forest': 2613, 'directs': 2614, 'honor': 2615, 'exists': 2616, 'hughes': 2617, 'graham': 2618, 'theory': 2619, 'jesus': 2620, 'breathtaking': 2621, 'outrageous': 2622, 'fonda': 2623, 'quentin': 2624, 'spoilers': 2625, 'truck': 2626, 'dropped': 2627, 'coach': 2628, 'appropriately': 2629, 'universe': 2630, 'lawrence': 2631, 'suffering': 2632, 'contemporary': 2633, 'worthwhile': 2634, 'millions': 2635, 'assume': 2636, 'creation': 2637, 'endearing': 2638, 'executive': 2639, 'service': 2640, 'entertain': 2641, 'mtv': 2642, 'brooks': 2643, 'trio': 2644, 'performers': 2645, 'screening': 2646, 'ellie': 2647, 'designed': 2648, 'festival': 2649, 'goodman': 2650, 'trapped': 2651, 'shut': 2652, 'thousand': 2653, 'carol': 2654, 'viewed': 2655, 'crow': 2656, 'stronger': 2657, 'ace': 2658, 'fears': 2659, 'floating': 2660, 'ancient': 2661, 'dillon': 2662, 'statement': 2663, 'stays': 2664, 'crisis': 2665, 'fantasies': 2666, 'antz': 2667, 'stallone': 2668, 'jobs': 2669, 'chicago': 2670, 'phantom': 2671, 'jan': 2672, 'luke': 2673, 'sinise': 2674, 'prime': 2675, 'reallife': 2676, 'vince': 2677, 'refreshing': 2678, 'cry': 2679, 'grown': 2680, 'families': 2681, 'davis': 2682, 'cgi': 2683, 'lived': 2684, 'orders': 2685, 'increasingly': 2686, 'favor': 2687, 'deeply': 2688, 'equal': 2689, 'ring': 2690, 'obsession': 2691, 'gory': 2692, 'entry': 2693, 'everywhere': 2694, 'obnoxious': 2695, 'colorful': 2696, 'manager': 2697, 'consistently': 2698, 'selling': 2699, 'pregnant': 2700, 'abandoned': 2701, 'anger': 2702, 'compare': 2703, 'letting': 2704, 'block': 2705, 'horribly': 2706, 'jaws': 2707, 'mature': 2708, 'spots': 2709, 'roth': 2710, 'beating': 2711, 'area': 2712, 'wallace': 2713, 'albeit': 2714, 'braveheart': 2715, 'carries': 2716, 'ian': 2717, 'achievement': 2718, 'civil': 2719, 'inept': 2720, 'wave': 2721, 'ordinary': 2722, 'francis': 2723, 'bridge': 2724, 'cases': 2725, 'recognize': 2726, 'clueless': 2727, 'overcome': 2728, 'sat': 2729, 'lights': 2730, 'scientists': 2731, 'classics': 2732, 'treatment': 2733, 'wishes': 2734, 'demands': 2735, 'peak': 2736, 'travels': 2737, 'lifeless': 2738, 'poker': 2739, 'copy': 2740, 'appeared': 2741, 'portrays': 2742, 'random': 2743, 'abilities': 2744, 'passing': 2745, 'burtons': 2746, 'surreal': 2747, 'volcano': 2748, 'mile': 2749, 'irene': 2750, 'destruction': 2751, 'baker': 2752, 'chases': 2753, 'infamous': 2754, 'inane': 2755, 'extraordinary': 2756, 'protagonists': 2757, 'aforementioned': 2758, 'pet': 2759, 'senses': 2760, 'hang': 2761, 'disc': 2762, 'drinking': 2763, 'expensive': 2764, 'believed': 2765, 'false': 2766, 'timing': 2767, 'committed': 2768, 'via': 2769, 'credible': 2770, 'tight': 2771, 'stewart': 2772, 'threatening': 2773, 'nervous': 2774, 'birth': 2775, 'irony': 2776, 'stylish': 2777, 'scare': 2778, 'flashy': 2779, 'predecessor': 2780, 'terrorist': 2781, 'twin': 2782, 'dress': 2783, 'li': 2784, 'mixed': 2785, 'drags': 2786, 'controversial': 2787, 'dick': 2788, 'packed': 2789, 'greatly': 2790, 'struggling': 2791, 'amanda': 2792, 'episodes': 2793, 'revelation': 2794, 'hip': 2795, 'teams': 2796, 'campaign': 2797, 'thief': 2798, 'ad': 2799, 'redeeming': 2800, 'hills': 2801, 'dialog': 2802, 'proof': 2803, 'factor': 2804, 'emily': 2805, 'remarkably': 2806, 'garbage': 2807, 'sake': 2808, 'river': 2809, 'trial': 2810, 'carried': 2811, 'according': 2812, 'howard': 2813, 'ticket': 2814, 'connor': 2815, 'linda': 2816, 'sandra': 2817, 'p': 2818, 'base': 2819, 'pool': 2820, 'wong': 2821, 'enormous': 2822, 'require': 2823, 'loser': 2824, 'remembered': 2825, 'americans': 2826, 'norton': 2827, 'tribe': 2828, 'natasha': 2829, 'blows': 2830, 'absurd': 2831, 'magical': 2832, 'san': 2833, 'reese': 2834, 'camerons': 2835, 'corny': 2836, 'verhoeven': 2837, 'jet': 2838, 'quinn': 2839, 'breasts': 2840, 'seth': 2841, 'model': 2842, 'idiotic': 2843, 'austin': 2844, 'independent': 2845, 'sixth': 2846, 'tears': 2847, 'beautifully': 2848, 'consists': 2849, 'contain': 2850, 'execution': 2851, 'closer': 2852, 'location': 2853, 'tape': 2854, 'climactic': 2855, 'village': 2856, 'beverly': 2857, 'ellen': 2858, 'sudden': 2859, 'silver': 2860, 'extended': 2861, 'brutal': 2862, 'captures': 2863, 'irish': 2864, 'sides': 2865, 'escapes': 2866, 'numbers': 2867, 'fortune': 2868, 'network': 2869, 'finish': 2870, 'buzz': 2871, 'trite': 2872, 'faced': 2873, 'develops': 2874, 'eager': 2875, 'wildly': 2876, 'bought': 2877, 'primary': 2878, 'joins': 2879, 'highlight': 2880, 'los': 2881, 'aid': 2882, 'religion': 2883, 'reads': 2884, 'scenery': 2885, 'ron': 2886, 'trick': 2887, 'beatty': 2888, 'silence': 2889, 'gene': 2890, 'convince': 2891, 'degree': 2892, 'command': 2893, 'produce': 2894, 'sir': 2895, 'gorgeous': 2896, 'superficial': 2897, 'cuba': 2898, 'snipes': 2899, 'standards': 2900, 'thirteenth': 2901, 'stranger': 2902, 'consequences': 2903, 'spoken': 2904, 'suffer': 2905, 'manipulative': 2906, 'survivors': 2907, 'loss': 2908, 'size': 2909, 'picked': 2910, 'trend': 2911, 'ordell': 2912, 'condition': 2913, 'saves': 2914, 'smiths': 2915, 'inspiration': 2916, 'phil': 2917, 'context': 2918, 'category': 2919, 'donald': 2920, 'ideal': 2921, 'anymore': 2922, 'flawed': 2923, 'charisma': 2924, 'buddies': 2925, 'charge': 2926, 'straightforward': 2927, 'confusion': 2928, 'reminds': 2929, 'treated': 2930, 'leila': 2931, 'explaining': 2932, 'torn': 2933, 'utter': 2934, 'tracks': 2935, 'trade': 2936, 'chain': 2937, 'aint': 2938, 'stanley': 2939, 'energetic': 2940, 'battles': 2941, 'carrying': 2942, 'devoted': 2943, 'ludicrous': 2944, 'terry': 2945, 'shakespeare': 2946, 'kick': 2947, 'absolute': 2948, 'gabriel': 2949, 'lisa': 2950, 'scared': 2951, 'anybody': 2952, 'crowe': 2953, 'troubled': 2954, 'gross': 2955, 'raised': 2956, 'centers': 2957, 'drag': 2958, 'fifth': 2959, 'closing': 2960, 'shark': 2961, 'mafia': 2962, 'angeles': 2963, 'california': 2964, 'duvall': 2965, 'hurricane': 2966, 'actresses': 2967, 'discovery': 2968, 'paxton': 2969, 'steps': 2970, 'weaver': 2971, 'disbelief': 2972, 'flawless': 2973, 'curtis': 2974, 'lone': 2975, 'throws': 2976, 'psychotic': 2977, 'sorvino': 2978, 'downright': 2979, 'shall': 2980, 'proper': 2981, 'ricky': 2982, 'smoking': 2983, 'facts': 2984, 'frankenstein': 2985, 'marks': 2986, 'husbands': 2987, 'adding': 2988, 'segment': 2989, 'ironically': 2990, 'reaches': 2991, 'dreamworks': 2992, 'wcw': 2993, 'broderick': 2994, 'scripts': 2995, 'murderer': 2996, 'ethan': 2997, 'maggie': 2998, 'grade': 2999, 'turkey': 3000, 'schwarzenegger': 3001, 'onedimensional': 3002, 'sutherland': 3003, 'relate': 3004, 'iron': 3005, 'dressed': 3006, 'gorilla': 3007, 'paltrow': 3008, 'prinze': 3009, 'chasing': 3010, 'majority': 3011, 'sophisticated': 3012, 'hearts': 3013, 'joseph': 3014, 'sinister': 3015, 'appearing': 3016, 'revealing': 3017, 'gain': 3018, 'afterwards': 3019, 'computergenerated': 3020, 'madness': 3021, 'shining': 3022, 'handful': 3023, 'legendary': 3024, 'normally': 3025, 'vicious': 3026, 'sheriff': 3027, 'advantage': 3028, 'dan': 3029, 'briefly': 3030, 'east': 3031, 'tucker': 3032, 'stunt': 3033, 'realizing': 3034, 'thrilling': 3035, 'brilliantly': 3036, 'gradually': 3037, 'demonstrates': 3038, 'tall': 3039, 'secrets': 3040, 'gambling': 3041, 'todays': 3042, 'foster': 3043, 'blank': 3044, 'attraction': 3045, 'worker': 3046, 'sorts': 3047, 'scares': 3048, 'narrator': 3049, 'robot': 3050, 'affection': 3051, 'hundreds': 3052, 'resolution': 3053, 'disco': 3054, 'suffered': 3055, 'alec': 3056, 'federation': 3057, 'spending': 3058, 'legs': 3059, 'headed': 3060, 'eugene': 3061, 'jamie': 3062, 'schneider': 3063, 'antics': 3064, 'carefully': 3065, 'wing': 3066, 'paced': 3067, 'hed': 3068, 'priest': 3069, 'wouldbe': 3070, 'easier': 3071, 'parker': 3072, 'courtney': 3073, 'realm': 3074, 'finn': 3075, 'millionaire': 3076, 'harrelson': 3077, 'respectively': 3078, 'monsters': 3079, 'tales': 3080, 'rely': 3081, 'currently': 3082, 'warrior': 3083, 'costner': 3084, 'dicaprio': 3085, 'jealous': 3086, 'screams': 3087, 'mildly': 3088, 'clown': 3089, 'types': 3090, 'reporter': 3091, 'shoots': 3092, 'jude': 3093, 'twister': 3094, 'walsh': 3095, 'analyze': 3096, 'meyer': 3097, 'france': 3098, 'bmovie': 3099, 'betty': 3100, 'romeo': 3101, 'metro': 3102, 'cameos': 3103, 'dozens': 3104, 'duchovny': 3105, 'skip': 3106, 'michelle': 3107, 'realism': 3108, 'detailed': 3109, 'deserved': 3110, 'blind': 3111, 'corrupt': 3112, 'friendly': 3113, 'offering': 3114, 'reputation': 3115, 'personalities': 3116, 'measure': 3117, 'north': 3118, 'jumps': 3119, 'emperor': 3120, 'bet': 3121, 'supernatural': 3122, 'enterprise': 3123, 'distracting': 3124, 'delivery': 3125, 'mass': 3126, 'kim': 3127, 'machines': 3128, 'catches': 3129, 'pretentious': 3130, 'colonel': 3131, 'penn': 3132, 'robbie': 3133, 'depp': 3134, 'crack': 3135, 'chooses': 3136, 'finished': 3137, 'searching': 3138, 'learning': 3139, 'mortal': 3140, 'hated': 3141, 'heck': 3142, 'hadnt': 3143, 'sin': 3144, 'marshall': 3145, 'uncle': 3146, 'charismatic': 3147, 'tend': 3148, 'primarily': 3149, 'bat': 3150, 'stumbles': 3151, 'sleazy': 3152, 'evening': 3153, 'branagh': 3154, 'hitchcock': 3155, 'listening': 3156, 'raise': 3157, 'bucks': 3158, 'variety': 3159, 'executed': 3160, 'standout': 3161, 'stealing': 3162, 'interviews': 3163, 'surrounded': 3164, 'ages': 3165, 'heat': 3166, 'authority': 3167, 'promises': 3168, 'com': 3169, 'showdown': 3170, 'projects': 3171, 'response': 3172, 'cameras': 3173, 'site': 3174, 'engaged': 3175, 'philosophy': 3176, 'burns': 3177, 'jessica': 3178, 'dora': 3179, 'preview': 3180, 'stab': 3181, 'dantes': 3182, 'rebecca': 3183, 'terrorists': 3184, 'eerie': 3185, 'boasts': 3186, 'hood': 3187, 'stopped': 3188, 'todd': 3189, 'grier': 3190, 'jean': 3191, 'ridiculously': 3192, 'connery': 3193, 'insult': 3194, 'fincher': 3195, 'fatal': 3196, 'felix': 3197, 'monty': 3198, 'judd': 3199, 'shane': 3200, 'sweetback': 3201, 'secretly': 3202, 'argue': 3203, 'andy': 3204, 'influence': 3205, 'views': 3206, 'thank': 3207, 'arrival': 3208, 'perfection': 3209, 'separate': 3210, 'explored': 3211, 'delivering': 3212, 'frequent': 3213, 'reluctant': 3214, 'prisoner': 3215, 'solely': 3216, 'birthday': 3217, 'passes': 3218, 'inner': 3219, 'busy': 3220, 'selfish': 3221, 'craft': 3222, 'handsome': 3223, 'insane': 3224, 'clues': 3225, 'staying': 3226, 'instantly': 3227, 'solve': 3228, 'mistaken': 3229, 'fable': 3230, 'kidnapped': 3231, 'macho': 3232, 'experienced': 3233, 'jeffrey': 3234, 'crazed': 3235, 'albert': 3236, 'bother': 3237, 'itll': 3238, 'toilet': 3239, 'ripoff': 3240, 'leonard': 3241, 'honestly': 3242, 'criminals': 3243, 'uma': 3244, 'thurman': 3245, 'bathroom': 3246, 'adequate': 3247, 'glad': 3248, 'holy': 3249, 'treats': 3250, 'regardless': 3251, 'sons': 3252, 'fred': 3253, 'weight': 3254, 'par': 3255, 'southern': 3256, 'spin': 3257, 'nurse': 3258, 'distant': 3259, 'unpleasant': 3260, 'shares': 3261, 'americas': 3262, 'belongs': 3263, 'strip': 3264, 'accomplished': 3265, 'pat': 3266, 'confrontation': 3267, 'profanity': 3268, 'buck': 3269, 'forgettable': 3270, 'lopez': 3271, 'awesome': 3272, 'lethal': 3273, 'listen': 3274, 'heist': 3275, 'soft': 3276, 'fool': 3277, 'kinds': 3278, 'ran': 3279, 'received': 3280, 'raging': 3281, 'denise': 3282, 'hamlet': 3283, 'jakob': 3284, 'devices': 3285, 'achieve': 3286, 'angles': 3287, 'boxoffice': 3288, 'filming': 3289, 'scenario': 3290, 'neat': 3291, 'impress': 3292, 'massive': 3293, 'string': 3294, 'lighting': 3295, 'martha': 3296, 'suspicious': 3297, 'stereotypical': 3298, 'assigned': 3299, 'offered': 3300, 'super': 3301, 'wrapped': 3302, 'comet': 3303, 'campy': 3304, 'principal': 3305, 'ruined': 3306, 'voight': 3307, 'credibility': 3308, 'likeable': 3309, 'gooding': 3310, 'knight': 3311, 'snuff': 3312, 'paying': 3313, 'kathleen': 3314, 'paper': 3315, 'jackal': 3316, 'folk': 3317, 'lucy': 3318, 'staged': 3319, 'werewolf': 3320, 'astronaut': 3321, 'lebowski': 3322, 'specific': 3323, 'jordan': 3324, 'handles': 3325, 'definite': 3326, 'composed': 3327, 'sticks': 3328, 'training': 3329, 'specifically': 3330, 'focused': 3331, 'coffee': 3332, 'naive': 3333, 'safety': 3334, 'redemption': 3335, 'eating': 3336, 'scheme': 3337, 'artificial': 3338, 'grim': 3339, 'kubrick': 3340, 'enjoyment': 3341, 'worry': 3342, 'frequency': 3343, 'bullets': 3344, 'round': 3345, 'groups': 3346, 'alicia': 3347, 'horrifying': 3348, 'hints': 3349, 'amounts': 3350, 'crude': 3351, 'kidnapping': 3352, 'upset': 3353, 'asian': 3354, 'lance': 3355, 'larger': 3356, 'walked': 3357, 'invisible': 3358, 'transformation': 3359, 'margaret': 3360, 'platt': 3361, 'melodramatic': 3362, 'closely': 3363, 'glass': 3364, 'destined': 3365, 'disappears': 3366, 'artists': 3367, 'essence': 3368, 'waves': 3369, 'altman': 3370, 'raimi': 3371, 'cynical': 3372, 'gods': 3373, 'tour': 3374, 'cooper': 3375, 'brand': 3376, 'framed': 3377, 'edited': 3378, 'rape': 3379, 'carl': 3380, 'differences': 3381, 'hide': 3382, 'everyones': 3383, 'neighbor': 3384, 'awake': 3385, 'returned': 3386, 'bull': 3387, 'raw': 3388, 'mask': 3389, 'stupidity': 3390, 'trademark': 3391, 'kidman': 3392, 'potentially': 3393, 'hapless': 3394, 'carrie': 3395, 'balance': 3396, 'kicks': 3397, 'mentally': 3398, 'rage': 3399, 'asleep': 3400, 'card': 3401, 'lesbian': 3402, 'commercials': 3403, 'painting': 3404, 'loyal': 3405, 'shortly': 3406, 'cox': 3407, 'excessive': 3408, 'admittedly': 3409, 'served': 3410, 'lighthearted': 3411, 'accurate': 3412, 'till': 3413, 'facial': 3414, 'ingredients': 3415, 'hackman': 3416, 'tricks': 3417, 'gloria': 3418, 'guido': 3419, 'split': 3420, 'sum': 3421, 'funnier': 3422, 'joker': 3423, 'lazy': 3424, 'wisdom': 3425, 'stale': 3426, 'unconvincing': 3427, 'watson': 3428, 'mermaid': 3429, 'armed': 3430, 'bits': 3431, 'stahl': 3432, 'harrys': 3433, 'jawbreaker': 3434, 'henstridge': 3435, 'pretend': 3436, 'gas': 3437, 'deuce': 3438, 'everyday': 3439, 'uncomfortable': 3440, 'awards': 3441, 'portrait': 3442, 'lane': 3443, 'section': 3444, 'namely': 3445, 'magnificent': 3446, 'greatness': 3447, 'tunes': 3448, 'express': 3449, 'interaction': 3450, 'possibility': 3451, 'achieved': 3452, 'struck': 3453, 'bear': 3454, 'inevitably': 3455, 'mothers': 3456, 'uninspired': 3457, 'proud': 3458, 'beings': 3459, 'flight': 3460, 'intellectual': 3461, 'decisions': 3462, 'victory': 3463, 'threatens': 3464, 'antonio': 3465, 'angela': 3466, 'castle': 3467, 'adapted': 3468, 'inspector': 3469, 'opened': 3470, 'shape': 3471, 'removed': 3472, 'demons': 3473, 'harsh': 3474, 'samuel': 3475, 'surrounding': 3476, 'enters': 3477, 'fiennes': 3478, 'courage': 3479, 'concerns': 3480, 'costar': 3481, 'investigator': 3482, 'dedicated': 3483, 'mallory': 3484, 'waitress': 3485, 'judging': 3486, 'arrive': 3487, 'subtlety': 3488, 'ease': 3489, 'joes': 3490, 'airplane': 3491, 'fourth': 3492, 'discovering': 3493, 'comical': 3494, 'lovable': 3495, 'interview': 3496, 'conversations': 3497, 'wacky': 3498, 'comment': 3499, 'profound': 3500, 'realization': 3501, 'seek': 3502, 'beneath': 3503, 'crawford': 3504, 'forms': 3505, 'mansion': 3506, 'harrison': 3507, 'obiwan': 3508, 'rd': 3509, 'sword': 3510, 'chans': 3511, 'rumble': 3512, 'essential': 3513, 'convicted': 3514, 'identify': 3515, 'nicholas': 3516, 'nostalgia': 3517, 'lloyd': 3518, 'tune': 3519, 'sentence': 3520, 'african': 3521, 'randy': 3522, 'reed': 3523, 'empire': 3524, 'needless': 3525, 'hook': 3526, 'mitchell': 3527, 'marty': 3528, 'tree': 3529, 'progress': 3530, 'fiona': 3531, 'attracted': 3532, 'endings': 3533, 'curious': 3534, 'sentimental': 3535, 'fighter': 3536, 'companion': 3537, 'serving': 3538, 'hayek': 3539, 'dogma': 3540, 'misguided': 3541, 'protect': 3542, 'evident': 3543, 'mountain': 3544, 'lively': 3545, 'odds': 3546, 'sgt': 3547, 'lands': 3548, 'vaguely': 3549, 'suzie': 3550, 'x': 3551, 'uneven': 3552, 'showgirls': 3553, 'presumably': 3554, 'battlefield': 3555, 'farrellys': 3556, 'freddie': 3557, 'phillippe': 3558, 'gordon': 3559, 'jolie': 3560, 'saga': 3561, 'individuals': 3562, 'spring': 3563, 'ruin': 3564, 'videos': 3565, 'cost': 3566, 'proceeds': 3567, 'aimed': 3568, 'poignant': 3569, 'official': 3570, 'understood': 3571, 'data': 3572, 'pays': 3573, 'tiresome': 3574, 'mcconaughey': 3575, 'cheating': 3576, 'print': 3577, 'writes': 3578, 'gal': 3579, 'popularity': 3580, 'thousands': 3581, 'controlled': 3582, 'waters': 3583, 'nolte': 3584, 'profession': 3585, 'greed': 3586, 'arrogant': 3587, 'upper': 3588, 'racism': 3589, 'month': 3590, 'prostitute': 3591, 'per': 3592, 'kudrow': 3593, 'methods': 3594, 'chair': 3595, 'beats': 3596, 'cardboard': 3597, 'challenging': 3598, 'object': 3599, 'lying': 3600, 'praise': 3601, 'emma': 3602, 'rights': 3603, 'bates': 3604, 'sits': 3605, 'belief': 3606, 'deniro': 3607, 'drawing': 3608, 'incident': 3609, 'faithful': 3610, 'motives': 3611, 'healthy': 3612, 'marketing': 3613, 'builds': 3614, 'struggles': 3615, 'doctors': 3616, 'roman': 3617, 'movements': 3618, 'nasa': 3619, 'martian': 3620, 'edition': 3621, 'peoples': 3622, 'lousy': 3623, 'candy': 3624, 'vast': 3625, 'hokey': 3626, 'piano': 3627, 'roommates': 3628, 'figured': 3629, 'gothic': 3630, 'menacing': 3631, 'letter': 3632, 'rises': 3633, 'morgan': 3634, 'pod': 3635, 'oz': 3636, 'ann': 3637, 'thrill': 3638, 'brains': 3639, 'buscemi': 3640, 'levels': 3641, 'resembles': 3642, 'ventura': 3643, 'breath': 3644, 'sympathize': 3645, 'convinces': 3646, 'shy': 3647, 'rocks': 3648, 'pam': 3649, 'demeanor': 3650, 'moviegoers': 3651, 'warren': 3652, 'resulting': 3653, 'wings': 3654, 'row': 3655, 'technically': 3656, 'formulaic': 3657, 'holmes': 3658, 'convincingly': 3659, 'expressions': 3660, 'repetitive': 3661, 'mirror': 3662, 'competition': 3663, 'sensitive': 3664, 'africa': 3665, 'ads': 3666, 'hollywoods': 3667, 'slightest': 3668, 'shine': 3669, 'wow': 3670, 'duo': 3671, 'coworkers': 3672, 'possibilities': 3673, 'lesson': 3674, 'couldve': 3675, 'diaz': 3676, 'pulling': 3677, 'comedian': 3678, 'goldblum': 3679, 'sid': 3680, 'geoffrey': 3681, 'skywalker': 3682, 'darth': 3683, 'term': 3684, 'bay': 3685, 'relies': 3686, 'happily': 3687, 'basketball': 3688, 'sloppy': 3689, 'anaconda': 3690, 'clumsy': 3691, 'ashley': 3692, 'insurrection': 3693, 'hewitt': 3694, 'luis': 3695, 'seagal': 3696, 'underground': 3697, 'dare': 3698, 'wheres': 3699, 'performer': 3700, 'remote': 3701, 'related': 3702, 'crashes': 3703, 'emmerich': 3704, 'bears': 3705, 'comparisons': 3706, 'australian': 3707, 'slick': 3708, 'sun': 3709, 'stark': 3710, 'authorities': 3711, 'guards': 3712, 'pivotal': 3713, 'extent': 3714, 'snow': 3715, 'convey': 3716, 'winslet': 3717, 'phoenix': 3718, 'st': 3719, 'worried': 3720, 'advanced': 3721, 'guessed': 3722, 'approaches': 3723, 'walls': 3724, 'newcomer': 3725, 'nominated': 3726, 'crimes': 3727, 'sexuality': 3728, 'schindlers': 3729, 'crisp': 3730, 'indiana': 3731, 'hires': 3732, 'gem': 3733, 'watches': 3734, 'sharon': 3735, 'christ': 3736, 'deaths': 3737, 'nose': 3738, 'sappy': 3739, 'jumping': 3740, 'grasp': 3741, 'boot': 3742, 'territory': 3743, 'casino': 3744, 'maintain': 3745, 'environment': 3746, 'nude': 3747, 'pursuit': 3748, 'population': 3749, 'combined': 3750, 'underwater': 3751, 'wannabe': 3752, 'rooting': 3753, 'upcoming': 3754, 'payback': 3755, 'exceptional': 3756, 'hates': 3757, 'rooms': 3758, 'raising': 3759, 'nicolas': 3760, 'pointed': 3761, 'workers': 3762, 'switch': 3763, 'cousin': 3764, 'portraying': 3765, 'fictional': 3766, 'peace': 3767, 'redman': 3768, 'precisely': 3769, 'daddy': 3770, 'fell': 3771, 'thoughtful': 3772, 'grave': 3773, 'physically': 3774, 'lifted': 3775, 'ambitious': 3776, 'represents': 3777, 'underwritten': 3778, 'attempted': 3779, 'teeth': 3780, 'kinda': 3781, 'returning': 3782, 'dinosaurs': 3783, 'civilization': 3784, 'indian': 3785, 'triumph': 3786, 'convoluted': 3787, 'opportunities': 3788, 'flair': 3789, 'noticed': 3790, 'craven': 3791, 'troops': 3792, 'newman': 3793, 'frightened': 3794, 'portions': 3795, 'cards': 3796, 'decidedly': 3797, 'alternate': 3798, 'meat': 3799, 'disease': 3800, 'satan': 3801, 'thick': 3802, 'mcgregor': 3803, 'spectacle': 3804, 'motions': 3805, 'francisco': 3806, 'robinson': 3807, 'pile': 3808, 'tickets': 3809, 'aging': 3810, 'ricci': 3811, 'backdrop': 3812, 'voiceover': 3813, 'oldfashioned': 3814, 'psychiatrist': 3815, 'rachel': 3816, 'simons': 3817, 'bully': 3818, 'abyss': 3819, 'besson': 3820, 'kings': 3821, 'token': 3822, 'forgot': 3823, 'defense': 3824, 'elderly': 3825, 'robocop': 3826, 'jesse': 3827, 'criticism': 3828, 'iii': 3829, 'nifty': 3830, 'chad': 3831, 'porter': 3832, 'bang': 3833, 'phony': 3834, 'palma': 3835, 'boiler': 3836, 'freeze': 3837, 'theron': 3838, 'nello': 3839, 'astronauts': 3840, 'derek': 3841, 'mindless': 3842, 'zane': 3843, 'fancy': 3844, 'bird': 3845, 'joblo': 3846, 'gus': 3847, 'changing': 3848, 'fed': 3849, 'recognized': 3850, 'unforgettable': 3851, 'regarding': 3852, 'loaded': 3853, 'carreys': 3854, 'displays': 3855, 'paranoid': 3856, 'acclaimed': 3857, 'heroin': 3858, 'comfortable': 3859, 'whereas': 3860, 'prologue': 3861, 'wanting': 3862, 'blatant': 3863, 'mistakes': 3864, 'concerning': 3865, 'mulder': 3866, 'amongst': 3867, 'highway': 3868, 'cromwell': 3869, 'outing': 3870, 'calling': 3871, 'drink': 3872, 'winds': 3873, 'nightmares': 3874, 'fargo': 3875, 'fuller': 3876, 'bowfinger': 3877, 'motivations': 3878, 'befriends': 3879, 'jews': 3880, 'hiding': 3881, 'brutally': 3882, 'neeson': 3883, 'cook': 3884, 'astonishing': 3885, 'glory': 3886, 'behold': 3887, 'producing': 3888, 'arm': 3889, 'improved': 3890, 'continually': 3891, 'malcolm': 3892, 'freak': 3893, 'owns': 3894, 'respected': 3895, 'overbearing': 3896, 'socalled': 3897, 'bros': 3898, 'luc': 3899, 'troubles': 3900, 'describes': 3901, 'overdone': 3902, 'turmoil': 3903, 'harder': 3904, 'underworld': 3905, 'conscience': 3906, 'strongly': 3907, 'minnie': 3908, 'starred': 3909, 'sally': 3910, 'altogether': 3911, 'prevent': 3912, 'crying': 3913, 'ignored': 3914, 'raped': 3915, 'performing': 3916, 'satirical': 3917, 'aboard': 3918, 'burning': 3919, 'reached': 3920, 'rico': 3921, 'neighbors': 3922, 'commanding': 3923, 'fired': 3924, 'suffice': 3925, 'possessed': 3926, 'host': 3927, 'acceptable': 3928, 'joined': 3929, 'slavery': 3930, 'legal': 3931, 'nazis': 3932, 'dave': 3933, 'recognition': 3934, 'mountains': 3935, 'hence': 3936, 'philosophical': 3937, 'abandon': 3938, 'broadcast': 3939, 'philip': 3940, 'gerard': 3941, 'rushmore': 3942, 'plotting': 3943, 'funeral': 3944, 'factory': 3945, 'reactions': 3946, 'chose': 3947, 'skill': 3948, 'junk': 3949, 'earned': 3950, 'momentum': 3951, 'maintains': 3952, 'covers': 3953, 'stalked': 3954, 'university': 3955, 'tons': 3956, 'cooking': 3957, 'riding': 3958, 'unintentionally': 3959, 'benefit': 3960, 'giles': 3961, 'attacked': 3962, 'colony': 3963, 'mayhem': 3964, 'warriors': 3965, 'account': 3966, 'destroying': 3967, 'computers': 3968, 'catholic': 3969, 'christina': 3970, 'sucked': 3971, 'hudson': 3972, 'ha': 3973, 'galaxy': 3974, 'er': 3975, 'guest': 3976, 'mayor': 3977, 'mining': 3978, 'egypt': 3979, 'causing': 3980, 'messages': 3981, 'blown': 3982, 'beau': 3983, 'turner': 3984, 'dating': 3985, 'damned': 3986, 'generals': 3987, 'shell': 3988, 'frustrating': 3989, 'spell': 3990, 'twins': 3991, 'firm': 3992, 'daniels': 3993, 'commander': 3994, 'rounders': 3995, 'bont': 3996, 'garofalo': 3997, 'assembled': 3998, 'celebrity': 3999, 'phenomenon': 4000, 'insightful': 4001, 'shines': 4002, 'guide': 4003, 'awfully': 4004, 'nowadays': 4005, 'reel': 4006, 'continued': 4007, 'trumans': 4008, 'weir': 4009, 'immensely': 4010, 'hopelessly': 4011, 'dilemma': 4012, 'route': 4013, 'containing': 4014, 'blend': 4015, 'startling': 4016, 'settings': 4017, 'ward': 4018, 'ominous': 4019, 'generations': 4020, 'description': 4021, 'ebert': 4022, 'instincts': 4023, 'soldier': 4024, 'glimpse': 4025, 'institution': 4026, 'caused': 4027, 'wake': 4028, 'shadows': 4029, 'popcorn': 4030, 'sink': 4031, 'medium': 4032, 'typically': 4033, 'visions': 4034, 'duke': 4035, 'sketch': 4036, 'studying': 4037, 'subjected': 4038, 'barbara': 4039, 'teaching': 4040, 'overlong': 4041, 'guts': 4042, 'ripped': 4043, 'subsequent': 4044, 'broad': 4045, 'proved': 4046, 'spoil': 4047, 'useless': 4048, 'psychologist': 4049, 'donnie': 4050, 'native': 4051, 'fluff': 4052, 'daughters': 4053, 'fishburne': 4054, 'molly': 4055, 'kathy': 4056, 'candidate': 4057, 'shift': 4058, 'choose': 4059, 'spoof': 4060, 'harold': 4061, 'depicted': 4062, 'convention': 4063, 'accused': 4064, 'grew': 4065, 'hannah': 4066, 'souls': 4067, 'receive': 4068, 'racist': 4069, 'mild': 4070, 'deserted': 4071, 'miami': 4072, 'concert': 4073, 'captivating': 4074, 'guessing': 4075, 'robots': 4076, 'segments': 4077, 'editor': 4078, 'newspaper': 4079, 'argument': 4080, 'visits': 4081, 'understandable': 4082, 'communicate': 4083, 'robbery': 4084, 'demanding': 4085, 'slips': 4086, 'correct': 4087, 'liar': 4088, 'havoc': 4089, 'unhappy': 4090, 'womans': 4091, 'receives': 4092, 'reluctantly': 4093, 'masters': 4094, 'slaves': 4095, 'nearby': 4096, 'museum': 4097, 'post': 4098, 'superhero': 4099, 'savage': 4100, 'creator': 4101, 'absent': 4102, 'entertained': 4103, 'lends': 4104, 'wahlberg': 4105, 'leigh': 4106, 'prominent': 4107, 'owes': 4108, 'citizens': 4109, 'experiment': 4110, 'thugs': 4111, 'screwed': 4112, 'respective': 4113, 'femme': 4114, 'twilight': 4115, 'predict': 4116, 'denzel': 4117, 'holocaust': 4118, 'caan': 4119, 'arrow': 4120, 'zany': 4121, 'cliff': 4122, 'simultaneously': 4123, 'assault': 4124, 'combat': 4125, 'crafted': 4126, 'considerably': 4127, 'girlfriends': 4128, 'tea': 4129, 'involvement': 4130, 'salma': 4131, 'feelgood': 4132, 'maguire': 4133, 'logical': 4134, 'genetically': 4135, 'jerk': 4136, 'failing': 4137, 'sara': 4138, 'charlies': 4139, 'authentic': 4140, 'developing': 4141, 'dimension': 4142, 'couples': 4143, 'futuristic': 4144, 'miserable': 4145, 'v': 4146, 'possesses': 4147, 'oldman': 4148, 'lemmon': 4149, 'bullock': 4150, 'canadian': 4151, 'anakin': 4152, 'reports': 4153, 'beaten': 4154, 'foley': 4155, 'cheadle': 4156, 'miraculously': 4157, 'replacement': 4158, 'powder': 4159, 'sliding': 4160, 'flubber': 4161, 'admire': 4162, 'walker': 4163, 'rudy': 4164, 'leo': 4165, 'mummy': 4166, 'ned': 4167, 'baku': 4168, 'bigbudget': 4169, 'judith': 4170, 'leder': 4171, 'pokemon': 4172, 'christine': 4173, 'contest': 4174, 'steel': 4175, 'method': 4176, 'properly': 4177, 'fond': 4178, 'basement': 4179, 'discuss': 4180, 'hears': 4181, 'paradise': 4182, 'danes': 4183, 'predictably': 4184, 'recurring': 4185, 'dressing': 4186, 'shouting': 4187, 'thoughtprovoking': 4188, 'cave': 4189, 'picard': 4190, 'awry': 4191, 'prepared': 4192, 'examples': 4193, 'importance': 4194, 'victor': 4195, 'enjoys': 4196, 'merit': 4197, 'strangers': 4198, 'psychic': 4199, 'revolution': 4200, 'torture': 4201, 'sincere': 4202, 'superman': 4203, 'ghetto': 4204, 'gruesome': 4205, 'stomach': 4206, 'childs': 4207, 'handling': 4208, 'kane': 4209, 'outset': 4210, 'liam': 4211, 'gentle': 4212, 'subjects': 4213, 'teach': 4214, 'bumbling': 4215, 'tarantinos': 4216, 'boxer': 4217, 'harvey': 4218, 'lifestyle': 4219, 'previews': 4220, 'sold': 4221, 'shadow': 4222, 'vulnerable': 4223, 'ralph': 4224, 'pierce': 4225, 'newly': 4226, 'muddled': 4227, 'libby': 4228, 'separated': 4229, 'sunday': 4230, 'exploitation': 4231, 'connected': 4232, 'techniques': 4233, 'precious': 4234, 'abuse': 4235, 'homes': 4236, 'spark': 4237, 'grisham': 4238, 'hack': 4239, 'daryl': 4240, 'productions': 4241, 'theyll': 4242, 'miserably': 4243, 'covering': 4244, 'lengthy': 4245, 'bud': 4246, 'ignore': 4247, 'horrific': 4248, 'pack': 4249, 'diner': 4250, 'resurrection': 4251, 'del': 4252, 'verbal': 4253, 'investigating': 4254, 'phrase': 4255, 'intricate': 4256, 'parallels': 4257, 'evolution': 4258, 'significance': 4259, 'advance': 4260, 'ties': 4261, 'sparks': 4262, 'vehicles': 4263, 'tremendous': 4264, 'outer': 4265, 'perpetually': 4266, 'pale': 4267, 'accompanied': 4268, 'roots': 4269, 'plausible': 4270, 'stern': 4271, 'purely': 4272, 'sights': 4273, 'construction': 4274, 'nicole': 4275, 'proceed': 4276, 'secondary': 4277, 'spread': 4278, 'intent': 4279, 'masterful': 4280, 'arthur': 4281, 'liz': 4282, 'wesley': 4283, 'financial': 4284, 'craig': 4285, 'neck': 4286, 'possess': 4287, 'screens': 4288, 'assassin': 4289, 'irrelevant': 4290, 'depressed': 4291, 'birch': 4292, 'consequently': 4293, 'mcgowan': 4294, 'somebody': 4295, 'coherent': 4296, 'horny': 4297, 'election': 4298, 'eats': 4299, 'quote': 4300, 'dreary': 4301, 'objects': 4302, 'glover': 4303, 'tunnel': 4304, 'convenient': 4305, 'butt': 4306, 'theyd': 4307, 'sylvester': 4308, 'cup': 4309, 'chick': 4310, 'melodrama': 4311, 'strictly': 4312, 'witherspoon': 4313, 'leonardo': 4314, 'vessel': 4315, 'jersey': 4316, 'jeanne': 4317, 'kline': 4318, 'heston': 4319, 'package': 4320, 'mail': 4321, 'paint': 4322, 'insulting': 4323, 'closest': 4324, 'underdeveloped': 4325, 'uplifting': 4326, 'intention': 4327, 'occasion': 4328, 'vietnam': 4329, 'jacques': 4330, 'vader': 4331, 'hopper': 4332, 'clothing': 4333, 'exorcist': 4334, 'attached': 4335, 'divorce': 4336, 'montage': 4337, 'feihong': 4338, 'teaches': 4339, 'hammond': 4340, 'wanders': 4341, 'messenger': 4342, 'wig': 4343, 'guidance': 4344, 'em': 4345, 'alfred': 4346, 'homer': 4347, 'titled': 4348, 'rebel': 4349, 'wag': 4350, 'gwyneth': 4351, 'answered': 4352, 'worm': 4353, 'disguise': 4354, 'peebles': 4355, 'reindeer': 4356, 'estella': 4357, 'ho': 4358, 'bowling': 4359, 'charlize': 4360, 'tossed': 4361, 'ronin': 4362, 'nonsense': 4363, 'uninvolving': 4364, 'labor': 4365, 'vaughn': 4366, 'slater': 4367, 'photo': 4368, 'closed': 4369, 'effortlessly': 4370, 'katie': 4371, 'planned': 4372, 'vague': 4373, 'extras': 4374, 'isolated': 4375, 'web': 4376, 'sneak': 4377, 'lyrics': 4378, 'tad': 4379, 'oscars': 4380, 'shed': 4381, 'judgement': 4382, 'smooth': 4383, 'vital': 4384, 'guilt': 4385, 'unintentional': 4386, 'reviewers': 4387, 'sadistic': 4388, 'explores': 4389, 'nation': 4390, 'interpretation': 4391, 'morals': 4392, 'glance': 4393, 'federal': 4394, 'fields': 4395, 'literature': 4396, 'tie': 4397, 'hoped': 4398, 'sunk': 4399, 'inexplicably': 4400, 'forcing': 4401, 'spanish': 4402, 'genres': 4403, 'equipment': 4404, 'hat': 4405, 'spielbergs': 4406, 'remind': 4407, 'richardson': 4408, 'dalmatians': 4409, 'godfather': 4410, 'concepts': 4411, 'cultural': 4412, 'bitch': 4413, 'fix': 4414, 'rip': 4415, 'rhames': 4416, 'dealer': 4417, 'pun': 4418, 'dubbed': 4419, 'equivalent': 4420, 'marvelous': 4421, 'blond': 4422, 'excited': 4423, 'engrossing': 4424, 'grandfather': 4425, 'veronica': 4426, 'lower': 4427, 'bare': 4428, 'chaos': 4429, 'tests': 4430, 'calm': 4431, 'laid': 4432, 'emphasis': 4433, 'businessman': 4434, 'cope': 4435, 'proving': 4436, 'earn': 4437, 'arguably': 4438, 'parallel': 4439, 'jazz': 4440, 'manic': 4441, 'andor': 4442, 'punishment': 4443, 'worn': 4444, 'leaps': 4445, 'virgin': 4446, 'dignity': 4447, 'daily': 4448, 'tear': 4449, 'discussion': 4450, 'underneath': 4451, 'justify': 4452, 'ex': 4453, 'florida': 4454, 'improvement': 4455, 'cream': 4456, 'december': 4457, 'officers': 4458, 'penned': 4459, 'motivation': 4460, 'apple': 4461, 'courtesy': 4462, 'laws': 4463, 'enemies': 4464, 'belong': 4465, 'text': 4466, 'stardom': 4467, 'buying': 4468, 'owned': 4469, 'explosion': 4470, 'nonstop': 4471, 'catchy': 4472, 'joey': 4473, 'adolescent': 4474, 'houses': 4475, 'shocked': 4476, 'seeking': 4477, 'clark': 4478, 'crush': 4479, 'argento': 4480, 'domestic': 4481, 'ash': 4482, 'cynthia': 4483, 'dropping': 4484, 'insurance': 4485, 'dealt': 4486, 'chances': 4487, 'gladiator': 4488, 'hitting': 4489, 'annette': 4490, 'cia': 4491, 'graduate': 4492, 'pot': 4493, 'carters': 4494, 'renee': 4495, 'surviving': 4496, 'gordie': 4497, 'suitably': 4498, 'letters': 4499, 'explicit': 4500, 'bachelor': 4501, 'jeremy': 4502, 'traveling': 4503, 'persons': 4504, 'spencer': 4505, 'losers': 4506, 'cartoonish': 4507, 'vivid': 4508, 'stranded': 4509, 'unrealistic': 4510, 'believing': 4511, 'ruthless': 4512, 'rid': 4513, 'lions': 4514, 'japan': 4515, 'reynolds': 4516, 'monkeys': 4517, 'residents': 4518, 'alternative': 4519, 'chased': 4520, 'odyssey': 4521, 'kinnear': 4522, 'sheen': 4523, 'greedy': 4524, 'brosnan': 4525, 'rapidly': 4526, 'chambers': 4527, 'ladies': 4528, 'moses': 4529, 'valentine': 4530, 'kenobi': 4531, 'seattle': 4532, 'hideous': 4533, 'watchable': 4534, 'pacino': 4535, 'macy': 4536, 'showcase': 4537, 'jeanclaude': 4538, 'satisfy': 4539, 'louis': 4540, 'lackluster': 4541, 'mimic': 4542, 'wreck': 4543, 'dubious': 4544, 'friday': 4545, 'hackneyed': 4546, 'rough': 4547, 'shower': 4548, 'balls': 4549, 'slim': 4550, 'kombat': 4551, 'sucks': 4552, 'zetajones': 4553, 'chucky': 4554, 'chuckle': 4555, 'bruckheimer': 4556, 'babysitter': 4557, 'honesty': 4558, 'summers': 4559, 'interact': 4560, 'alexander': 4561, 'jerome': 4562, 'transformed': 4563, 'suitable': 4564, 'haunt': 4565, 'airport': 4566, 'desperation': 4567, 'storys': 4568, 'teenager': 4569, 'admission': 4570, 'misses': 4571, 'referred': 4572, 'norm': 4573, 'accepted': 4574, 'drops': 4575, 'subtitles': 4576, 'definately': 4577, 'blast': 4578, 'spoiler': 4579, 'cure': 4580, 'desires': 4581, 'hotshot': 4582, 'disturbed': 4583, 'sf': 4584, 'notch': 4585, 'paramount': 4586, 'angst': 4587, 'completed': 4588, 'shifts': 4589, 'bills': 4590, 'stones': 4591, 'amidst': 4592, 'lasting': 4593, 'assured': 4594, 'internal': 4595, 'griffith': 4596, 'practice': 4597, 'amazingly': 4598, 'brilliance': 4599, 'lesser': 4600, 'temptation': 4601, 'destiny': 4602, 'circle': 4603, 'fastpaced': 4604, 'smaller': 4605, 'recover': 4606, 'warned': 4607, 'gritty': 4608, 'displayed': 4609, 'gauge': 4610, 'wealth': 4611, 'famed': 4612, 'gibsons': 4613, 'dramas': 4614, 'avoids': 4615, 'outcome': 4616, 'maurice': 4617, 'witnessed': 4618, 'farrelly': 4619, 'illegal': 4620, 'laurence': 4621, 'shannon': 4622, 'elliot': 4623, 'brandy': 4624, 'imaginative': 4625, 'catching': 4626, 'embarrassed': 4627, 'responds': 4628, 'reliable': 4629, 'chuckles': 4630, 'exploit': 4631, 'buildings': 4632, 'fisher': 4633, 'depends': 4634, 'gripping': 4635, 'georgia': 4636, 'technique': 4637, 'debate': 4638, 'pal': 4639, 'unsatisfying': 4640, 'sonny': 4641, 'confidence': 4642, 'metaphor': 4643, 'moon': 4644, 'musicians': 4645, 'sigourney': 4646, 'heading': 4647, 'channel': 4648, 'confidential': 4649, 'map': 4650, 'anna': 4651, 'page': 4652, 'pitch': 4653, 'maria': 4654, 'mexico': 4655, 'mankind': 4656, 'cities': 4657, 'april': 4658, 'staff': 4659, 'tomorrow': 4660, 'function': 4661, 'unaware': 4662, 'famke': 4663, 'fidelity': 4664, 'nc': 4665, 'dawn': 4666, 'nightclub': 4667, 'senator': 4668, 'barnes': 4669, 'wire': 4670, 'activities': 4671, 'casablanca': 4672, 'costs': 4673, 'dracula': 4674, 'shaw': 4675, 'arrested': 4676, 'understated': 4677, 'presentation': 4678, 'edgy': 4679, 'unfair': 4680, 'lab': 4681, 'jacks': 4682, 'survivor': 4683, 'newest': 4684, 'coworker': 4685, 'partly': 4686, 'paulie': 4687, 'habit': 4688, 'distance': 4689, 'patience': 4690, 'respectable': 4691, 'colleagues': 4692, 'eva': 4693, 'lessons': 4694, 'allens': 4695, 'hometown': 4696, 'maximus': 4697, 'charged': 4698, 'lolita': 4699, 'champion': 4700, 'flynts': 4701, 'dancer': 4702, 'hatred': 4703, 'introduction': 4704, 'liner': 4705, 'biggs': 4706, 'closeups': 4707, 'bottle': 4708, 'dunne': 4709, 'tables': 4710, 'forster': 4711, 'detectives': 4712, 'defeat': 4713, 'careers': 4714, 'ewan': 4715, 'wouldve': 4716, 'lately': 4717, 'reduced': 4718, 'darn': 4719, 'overblown': 4720, 'carver': 4721, 'seduction': 4722, 'furious': 4723, 'underrated': 4724, 'janet': 4725, 'organization': 4726, 'considerable': 4727, 'faster': 4728, 'sue': 4729, 'resources': 4730, 'substantial': 4731, 'urge': 4732, 'fury': 4733, 'doll': 4734, 'lips': 4735, 'farm': 4736, 'constructed': 4737, 'idiot': 4738, 'russians': 4739, 'unbearable': 4740, 'critically': 4741, 'striking': 4742, 'damage': 4743, 'gere': 4744, 'load': 4745, 'maxs': 4746, 'dazzling': 4747, 'mulans': 4748, 'promised': 4749, 'reilly': 4750, 'adorable': 4751, 'growth': 4752, 'underused': 4753, 'proportions': 4754, 'planning': 4755, 'detroit': 4756, 'expedition': 4757, 'incidentally': 4758, 'ken': 4759, 'mamet': 4760, 'africanamerican': 4761, 'dustin': 4762, 'oil': 4763, 'penny': 4764, 'mechanical': 4765, 'dien': 4766, 'sustain': 4767, 'generate': 4768, 'melanie': 4769, 'march': 4770, 'update': 4771, 'suck': 4772, 'zellweger': 4773, 'watchers': 4774, 'sammy': 4775, 'ribisi': 4776, 'spoon': 4777, 'lumumba': 4778, 'undercover': 4779, 'fuentes': 4780, 'hedwig': 4781, 'supergirl': 4782, 'memphis': 4783, 'models': 4784, 'natalie': 4785, 'moronic': 4786, 'shrink': 4787, 'automatically': 4788, 'touched': 4789, 'puzzle': 4790, 'marc': 4791, 'topic': 4792, 'outfits': 4793, 'christof': 4794, 'introduce': 4795, 'unfolds': 4796, 'undoubtedly': 4797, 'contract': 4798, 'marlon': 4799, 'lou': 4800, 'morality': 4801, 'modernday': 4802, 'reza': 4803, 'ponder': 4804, 'exploration': 4805, 'wright': 4806, 'creations': 4807, 'ambiguous': 4808, 'psyche': 4809, 'pattern': 4810, 'counselor': 4811, 'reviewed': 4812, 'forlani': 4813, 'warns': 4814, 'commit': 4815, 'highlights': 4816, 'bible': 4817, 'resembling': 4818, 'cancer': 4819, 'affected': 4820, 'doomed': 4821, 'chest': 4822, 'kidnap': 4823, 'pink': 4824, 'mesmerizing': 4825, 'dimwitted': 4826, 'reservoir': 4827, 'ving': 4828, 'gangsters': 4829, 'ear': 4830, 'spotlight': 4831, 'shoulder': 4832, 'hart': 4833, 'firsttime': 4834, 'lauren': 4835, 'classes': 4836, 'legends': 4837, 'bold': 4838, 'thornton': 4839, 'repeatedly': 4840, 'pops': 4841, 'impending': 4842, 'boyle': 4843, 'depths': 4844, 'fares': 4845, 'improve': 4846, 'explore': 4847, 'rap': 4848, 'lambeau': 4849, 'attorney': 4850, 'considers': 4851, 'swallow': 4852, 'corruption': 4853, 'borrows': 4854, 'chilling': 4855, 'bridget': 4856, 'sinking': 4857, 'coens': 4858, 'simplistic': 4859, 'devils': 4860, 'shared': 4861, 'bulk': 4862, 'pants': 4863, 'relegated': 4864, 'array': 4865, 'trees': 4866, 'seats': 4867, 'clone': 4868, 'weary': 4869, 'gadget': 4870, 'rat': 4871, 'noble': 4872, 'tends': 4873, 'august': 4874, 'accomplish': 4875, 'morse': 4876, 'interests': 4877, 'venture': 4878, 'gifted': 4879, 'goodfellas': 4880, 'camerawork': 4881, 'globe': 4882, 'lean': 4883, 'fascinated': 4884, 'germany': 4885, 'claim': 4886, 'schools': 4887, 'european': 4888, 'similarly': 4889, 'jewish': 4890, 'sly': 4891, 'property': 4892, 'invasion': 4893, 'kit': 4894, 'hire': 4895, 'franklin': 4896, 'fingers': 4897, 'areas': 4898, 'nazi': 4899, 'roommate': 4900, 'dated': 4901, 'square': 4902, 'runner': 4903, 'spare': 4904, 'placement': 4905, 'gray': 4906, 'holly': 4907, 'mixing': 4908, 'parade': 4909, 'determine': 4910, 'maximum': 4911, 'lambs': 4912, 'achieves': 4913, 'unpredictable': 4914, 'associated': 4915, 'glamorous': 4916, 'downhill': 4917, 'elfman': 4918, 'requisite': 4919, 'unsettling': 4920, 'desired': 4921, 'tagline': 4922, 'contained': 4923, 'races': 4924, 'screw': 4925, 'clubs': 4926, 'rushed': 4927, 'pushes': 4928, 'charges': 4929, 'tied': 4930, 'unexpectedly': 4931, 'breakfast': 4932, 'krippendorfs': 4933, 'dreyfuss': 4934, 'competent': 4935, 'wicked': 4936, 'spirits': 4937, 'gilbert': 4938, 'similarities': 4939, 'noticeable': 4940, 'pushing': 4941, 'dolls': 4942, 'benigni': 4943, 'sounding': 4944, 'sleeping': 4945, 'pity': 4946, 'deliciously': 4947, 'slimy': 4948, 'amazed': 4949, 'demon': 4950, 'dismal': 4951, 'chickens': 4952, 'cheer': 4953, 'caricatures': 4954, 'simmons': 4955, 'edwards': 4956, 'arkin': 4957, 'navy': 4958, 'poison': 4959, 'ichabod': 4960, 'crane': 4961, 'knife': 4962, 'wed': 4963, 'tender': 4964, 'proven': 4965, 'reno': 4966, 'hides': 4967, 'bridges': 4968, 'royal': 4969, 'val': 4970, 'dreadful': 4971, 'twelve': 4972, 'quigon': 4973, 'peaceful': 4974, 'planets': 4975, 'bartender': 4976, 'mute': 4977, 'distraction': 4978, 'kermit': 4979, 'casts': 4980, 'clerk': 4981, 'magnolia': 4982, 'chapter': 4983, 'spaceship': 4984, 'dolores': 4985, 'darren': 4986, 'gavin': 4987, 'tongue': 4988, 'tiger': 4989, 'stiles': 4990, 'banal': 4991, 'supply': 4992, 'absence': 4993, 'atlantic': 4994, 'titles': 4995, 'josh': 4996, 'shady': 4997, 'walken': 4998, 'ol': 4999, 'donkey': 5000}\n"
     ]
    }
   ],
   "source": [
    "t = Tokenizer()\n",
    "t.fit_on_texts(X_train)\n",
    "print(t.word_index)"
   ]
  },
  {
   "cell_type": "code",
   "execution_count": 62,
   "metadata": {},
   "outputs": [],
   "source": [
    "L = int(length.quantile(.7))\n",
    "X_train_seq = t.texts_to_sequences(X_train)\n",
    "X_train_padded = pad_sequences(X_train_seq, maxlen=L, padding='post', truncating ='post')\n",
    "X_train_padded[X_train_padded > 5000] = 0\n",
    "\n",
    "X_test_seq = t.texts_to_sequences(X_test)\n",
    "X_test_padded = pad_sequences(X_test_seq, maxlen=L, padding='post', truncating = 'post')\n",
    "X_test_padded[X_test_padded > 5000] = 0\n",
    "\n",
    "# [len(sub) for sub in X_train_padded]"
   ]
  },
  {
   "cell_type": "markdown",
   "metadata": {},
   "source": [
    "## c. Word Embedding"
   ]
  },
  {
   "cell_type": "code",
   "execution_count": 64,
   "metadata": {},
   "outputs": [],
   "source": [
    "MLP_model = Sequential([Embedding(5001, output_dim=32, input_length=L),\n",
    "                   Flatten()]) "
   ]
  },
  {
   "cell_type": "markdown",
   "metadata": {},
   "source": [
    "## d.MLP"
   ]
  },
  {
   "cell_type": "code",
   "execution_count": 65,
   "metadata": {},
   "outputs": [],
   "source": [
    "MLP_model.add(Dense(50, activation='relu'))\n",
    "MLP_model.add(Dropout(0.2))\n",
    "MLP_model.add(Dense(50, activation='relu')) \n",
    "MLP_model.add(Dropout(0.5))\n",
    "MLP_model.add(Dense(50, activation='relu'))\n",
    "MLP_model.add (Dropout(0.5))\n",
    "MLP_model.add(Dense(1, activation='sigmoid'))"
   ]
  },
  {
   "cell_type": "code",
   "execution_count": 66,
   "metadata": {},
   "outputs": [
    {
     "data": {
      "text/html": [
       "<pre style=\"white-space:pre;overflow-x:auto;line-height:normal;font-family:Menlo,'DejaVu Sans Mono',consolas,'Courier New',monospace\"><span style=\"font-weight: bold\">Model: \"sequential\"</span>\n",
       "</pre>\n"
      ],
      "text/plain": [
       "\u001b[1mModel: \"sequential\"\u001b[0m\n"
      ]
     },
     "metadata": {},
     "output_type": "display_data"
    },
    {
     "data": {
      "text/html": [
       "<pre style=\"white-space:pre;overflow-x:auto;line-height:normal;font-family:Menlo,'DejaVu Sans Mono',consolas,'Courier New',monospace\">┏━━━━━━━━━━━━━━━━━━━━━━━━━━━━━━━━━┳━━━━━━━━━━━━━━━━━━━━━━━━┳━━━━━━━━━━━━━━━┓\n",
       "┃<span style=\"font-weight: bold\"> Layer (type)                    </span>┃<span style=\"font-weight: bold\"> Output Shape           </span>┃<span style=\"font-weight: bold\">       Param # </span>┃\n",
       "┡━━━━━━━━━━━━━━━━━━━━━━━━━━━━━━━━━╇━━━━━━━━━━━━━━━━━━━━━━━━╇━━━━━━━━━━━━━━━┩\n",
       "│ embedding (<span style=\"color: #0087ff; text-decoration-color: #0087ff\">Embedding</span>)           │ ?                      │   <span style=\"color: #00af00; text-decoration-color: #00af00\">0</span> (unbuilt) │\n",
       "├─────────────────────────────────┼────────────────────────┼───────────────┤\n",
       "│ flatten (<span style=\"color: #0087ff; text-decoration-color: #0087ff\">Flatten</span>)               │ ?                      │   <span style=\"color: #00af00; text-decoration-color: #00af00\">0</span> (unbuilt) │\n",
       "├─────────────────────────────────┼────────────────────────┼───────────────┤\n",
       "│ dense (<span style=\"color: #0087ff; text-decoration-color: #0087ff\">Dense</span>)                   │ ?                      │   <span style=\"color: #00af00; text-decoration-color: #00af00\">0</span> (unbuilt) │\n",
       "├─────────────────────────────────┼────────────────────────┼───────────────┤\n",
       "│ dropout (<span style=\"color: #0087ff; text-decoration-color: #0087ff\">Dropout</span>)               │ ?                      │   <span style=\"color: #00af00; text-decoration-color: #00af00\">0</span> (unbuilt) │\n",
       "├─────────────────────────────────┼────────────────────────┼───────────────┤\n",
       "│ dense_1 (<span style=\"color: #0087ff; text-decoration-color: #0087ff\">Dense</span>)                 │ ?                      │   <span style=\"color: #00af00; text-decoration-color: #00af00\">0</span> (unbuilt) │\n",
       "├─────────────────────────────────┼────────────────────────┼───────────────┤\n",
       "│ dropout_1 (<span style=\"color: #0087ff; text-decoration-color: #0087ff\">Dropout</span>)             │ ?                      │   <span style=\"color: #00af00; text-decoration-color: #00af00\">0</span> (unbuilt) │\n",
       "├─────────────────────────────────┼────────────────────────┼───────────────┤\n",
       "│ dense_2 (<span style=\"color: #0087ff; text-decoration-color: #0087ff\">Dense</span>)                 │ ?                      │   <span style=\"color: #00af00; text-decoration-color: #00af00\">0</span> (unbuilt) │\n",
       "├─────────────────────────────────┼────────────────────────┼───────────────┤\n",
       "│ dropout_2 (<span style=\"color: #0087ff; text-decoration-color: #0087ff\">Dropout</span>)             │ ?                      │   <span style=\"color: #00af00; text-decoration-color: #00af00\">0</span> (unbuilt) │\n",
       "├─────────────────────────────────┼────────────────────────┼───────────────┤\n",
       "│ dense_3 (<span style=\"color: #0087ff; text-decoration-color: #0087ff\">Dense</span>)                 │ ?                      │   <span style=\"color: #00af00; text-decoration-color: #00af00\">0</span> (unbuilt) │\n",
       "└─────────────────────────────────┴────────────────────────┴───────────────┘\n",
       "</pre>\n"
      ],
      "text/plain": [
       "┏━━━━━━━━━━━━━━━━━━━━━━━━━━━━━━━━━┳━━━━━━━━━━━━━━━━━━━━━━━━┳━━━━━━━━━━━━━━━┓\n",
       "┃\u001b[1m \u001b[0m\u001b[1mLayer (type)                   \u001b[0m\u001b[1m \u001b[0m┃\u001b[1m \u001b[0m\u001b[1mOutput Shape          \u001b[0m\u001b[1m \u001b[0m┃\u001b[1m \u001b[0m\u001b[1m      Param #\u001b[0m\u001b[1m \u001b[0m┃\n",
       "┡━━━━━━━━━━━━━━━━━━━━━━━━━━━━━━━━━╇━━━━━━━━━━━━━━━━━━━━━━━━╇━━━━━━━━━━━━━━━┩\n",
       "│ embedding (\u001b[38;5;33mEmbedding\u001b[0m)           │ ?                      │   \u001b[38;5;34m0\u001b[0m (unbuilt) │\n",
       "├─────────────────────────────────┼────────────────────────┼───────────────┤\n",
       "│ flatten (\u001b[38;5;33mFlatten\u001b[0m)               │ ?                      │   \u001b[38;5;34m0\u001b[0m (unbuilt) │\n",
       "├─────────────────────────────────┼────────────────────────┼───────────────┤\n",
       "│ dense (\u001b[38;5;33mDense\u001b[0m)                   │ ?                      │   \u001b[38;5;34m0\u001b[0m (unbuilt) │\n",
       "├─────────────────────────────────┼────────────────────────┼───────────────┤\n",
       "│ dropout (\u001b[38;5;33mDropout\u001b[0m)               │ ?                      │   \u001b[38;5;34m0\u001b[0m (unbuilt) │\n",
       "├─────────────────────────────────┼────────────────────────┼───────────────┤\n",
       "│ dense_1 (\u001b[38;5;33mDense\u001b[0m)                 │ ?                      │   \u001b[38;5;34m0\u001b[0m (unbuilt) │\n",
       "├─────────────────────────────────┼────────────────────────┼───────────────┤\n",
       "│ dropout_1 (\u001b[38;5;33mDropout\u001b[0m)             │ ?                      │   \u001b[38;5;34m0\u001b[0m (unbuilt) │\n",
       "├─────────────────────────────────┼────────────────────────┼───────────────┤\n",
       "│ dense_2 (\u001b[38;5;33mDense\u001b[0m)                 │ ?                      │   \u001b[38;5;34m0\u001b[0m (unbuilt) │\n",
       "├─────────────────────────────────┼────────────────────────┼───────────────┤\n",
       "│ dropout_2 (\u001b[38;5;33mDropout\u001b[0m)             │ ?                      │   \u001b[38;5;34m0\u001b[0m (unbuilt) │\n",
       "├─────────────────────────────────┼────────────────────────┼───────────────┤\n",
       "│ dense_3 (\u001b[38;5;33mDense\u001b[0m)                 │ ?                      │   \u001b[38;5;34m0\u001b[0m (unbuilt) │\n",
       "└─────────────────────────────────┴────────────────────────┴───────────────┘\n"
      ]
     },
     "metadata": {},
     "output_type": "display_data"
    },
    {
     "data": {
      "text/html": [
       "<pre style=\"white-space:pre;overflow-x:auto;line-height:normal;font-family:Menlo,'DejaVu Sans Mono',consolas,'Courier New',monospace\"><span style=\"font-weight: bold\"> Total params: </span><span style=\"color: #00af00; text-decoration-color: #00af00\">0</span> (0.00 B)\n",
       "</pre>\n"
      ],
      "text/plain": [
       "\u001b[1m Total params: \u001b[0m\u001b[38;5;34m0\u001b[0m (0.00 B)\n"
      ]
     },
     "metadata": {},
     "output_type": "display_data"
    },
    {
     "data": {
      "text/html": [
       "<pre style=\"white-space:pre;overflow-x:auto;line-height:normal;font-family:Menlo,'DejaVu Sans Mono',consolas,'Courier New',monospace\"><span style=\"font-weight: bold\"> Trainable params: </span><span style=\"color: #00af00; text-decoration-color: #00af00\">0</span> (0.00 B)\n",
       "</pre>\n"
      ],
      "text/plain": [
       "\u001b[1m Trainable params: \u001b[0m\u001b[38;5;34m0\u001b[0m (0.00 B)\n"
      ]
     },
     "metadata": {},
     "output_type": "display_data"
    },
    {
     "data": {
      "text/html": [
       "<pre style=\"white-space:pre;overflow-x:auto;line-height:normal;font-family:Menlo,'DejaVu Sans Mono',consolas,'Courier New',monospace\"><span style=\"font-weight: bold\"> Non-trainable params: </span><span style=\"color: #00af00; text-decoration-color: #00af00\">0</span> (0.00 B)\n",
       "</pre>\n"
      ],
      "text/plain": [
       "\u001b[1m Non-trainable params: \u001b[0m\u001b[38;5;34m0\u001b[0m (0.00 B)\n"
      ]
     },
     "metadata": {},
     "output_type": "display_data"
    }
   ],
   "source": [
    "MLP_model.summary()"
   ]
  },
  {
   "cell_type": "code",
   "execution_count": 67,
   "metadata": {},
   "outputs": [
    {
     "name": "stdout",
     "output_type": "stream",
     "text": [
      "Epoch 1/2\n",
      "\u001b[1m140/140\u001b[0m \u001b[32m━━━━━━━━━━━━━━━━━━━━\u001b[0m\u001b[37m\u001b[0m \u001b[1m4s\u001b[0m 20ms/step - accuracy: 0.5269 - loss: 0.6984\n",
      "Epoch 2/2\n",
      "\u001b[1m140/140\u001b[0m \u001b[32m━━━━━━━━━━━━━━━━━━━━\u001b[0m\u001b[37m\u001b[0m \u001b[1m3s\u001b[0m 19ms/step - accuracy: 0.5870 - loss: 0.6705\n"
     ]
    }
   ],
   "source": [
    "MLP_model.compile(optimizer='adam', loss='binary_crossentropy', metrics=['accuracy'])\n",
    "history = MLP_model.fit(X_train_padded, y_train, epochs=2, batch_size=10)"
   ]
  },
  {
   "cell_type": "code",
   "execution_count": 68,
   "metadata": {},
   "outputs": [
    {
     "name": "stdout",
     "output_type": "stream",
     "text": [
      "\u001b[1m44/44\u001b[0m \u001b[32m━━━━━━━━━━━━━━━━━━━━\u001b[0m\u001b[37m\u001b[0m \u001b[1m0s\u001b[0m 3ms/step - accuracy: 0.5989 - loss: 0.6263\n",
      "\u001b[1m19/19\u001b[0m \u001b[32m━━━━━━━━━━━━━━━━━━━━\u001b[0m\u001b[37m\u001b[0m \u001b[1m0s\u001b[0m 2ms/step - accuracy: 0.3694 - loss: 0.7775 \n"
     ]
    }
   ],
   "source": [
    "train_loss, train_accuracy = MLP_model.evaluate(X_train_padded, y_train)\n",
    "test_loss, test_accuracy = MLP_model.evaluate(X_test_padded, y_test)"
   ]
  },
  {
   "cell_type": "code",
   "execution_count": 69,
   "metadata": {},
   "outputs": [
    {
     "name": "stdout",
     "output_type": "stream",
     "text": [
      "Evaluated Train Loss: 0.531\n",
      "Evaluated Train Accuracy: 0.759\n",
      "Evaluated Test Loss: 0.692\n",
      "Evaluated Test Accuracy: 0.557\n"
     ]
    }
   ],
   "source": [
    "print(f\"Evaluated Train Loss: {train_loss:.3f}\")\n",
    "print(f\"Evaluated Train Accuracy: {train_accuracy:.3}\")\n",
    "print(f\"Evaluated Test Loss: {test_loss:.3f}\")\n",
    "print(f\"Evaluated Test Accuracy: {test_accuracy:.3f}\")"
   ]
  },
  {
   "cell_type": "markdown",
   "metadata": {},
   "source": [
    "## e. 1D CNN"
   ]
  },
  {
   "cell_type": "code",
   "execution_count": 73,
   "metadata": {},
   "outputs": [],
   "source": [
    "CNN_model =  Sequential([\n",
    "    Embedding(input_dim=5001, output_dim=32, input_length=L),  \n",
    "    Conv1D(filters=32, kernel_size=3, activation='relu'),\n",
    "    MaxPooling1D(pool_size=2, strides=2),\n",
    "    Flatten(),\n",
    "    Dense(50, activation='relu'),\n",
    "    Dropout(0.2),\n",
    "    Dense(50, activation='relu'),\n",
    "    Dropout(0.5),                                            \n",
    "    Dense(50, activation='relu'),\n",
    "    Dropout(0.5),                                          \n",
    "    Dense(1, activation='sigmoid')\n",
    "])"
   ]
  },
  {
   "cell_type": "code",
   "execution_count": 74,
   "metadata": {},
   "outputs": [
    {
     "name": "stdout",
     "output_type": "stream",
     "text": [
      "Epoch 1/2\n"
     ]
    },
    {
     "name": "stdout",
     "output_type": "stream",
     "text": [
      "\u001b[1m140/140\u001b[0m \u001b[32m━━━━━━━━━━━━━━━━━━━━\u001b[0m\u001b[37m\u001b[0m \u001b[1m2s\u001b[0m 8ms/step - accuracy: 0.5117 - loss: 0.6984\n",
      "Epoch 2/2\n",
      "\u001b[1m140/140\u001b[0m \u001b[32m━━━━━━━━━━━━━━━━━━━━\u001b[0m\u001b[37m\u001b[0m \u001b[1m2s\u001b[0m 16ms/step - accuracy: 0.5216 - loss: 0.6911\n"
     ]
    }
   ],
   "source": [
    "CNN_model.compile(optimizer='adam',loss='binary_crossentropy',metrics=['accuracy'])\n",
    "history2 = CNN_model.fit(X_train_padded, y_train, epochs=2, batch_size=10)"
   ]
  },
  {
   "cell_type": "code",
   "execution_count": null,
   "metadata": {},
   "outputs": [
    {
     "name": "stderr",
     "output_type": "stream",
     "text": [
      "2024-05-06 14:40:06.610114: I tensorflow/core/grappler/optimizers/custom_graph_optimizer_registry.cc:114] Plugin optimizer for device_type GPU is enabled.\n"
     ]
    },
    {
     "name": "stdout",
     "output_type": "stream",
     "text": [
      "44/44 [==============================] - 1s 14ms/step - loss: 0.6182 - accuracy: 0.7557\n",
      "19/19 [==============================] - 0s 10ms/step - loss: 0.6676 - accuracy: 0.5767\n"
     ]
    }
   ],
   "source": [
    "train_loss, train_accuracy = CNN_model.evaluate(X_train_padded, y_train)\n",
    "test_loss, test_accuracy = CNN_model.evaluate(X_test_padded, y_test)"
   ]
  },
  {
   "cell_type": "code",
   "execution_count": null,
   "metadata": {},
   "outputs": [
    {
     "name": "stdout",
     "output_type": "stream",
     "text": [
      "Evaluated Train Loss: 0.618\n",
      "Evaluated Train Accuracy: 0.756\n",
      "Evaluated Test Loss: 0.668\n",
      "Evaluated Test Accuracy: 0.577\n"
     ]
    }
   ],
   "source": [
    "print(f\"Evaluated Train Loss: {train_loss:.3f}\")\n",
    "print(f\"Evaluated Train Accuracy: {train_accuracy:.3}\")\n",
    "print(f\"Evaluated Test Loss: {test_loss:.3f}\")\n",
    "print(f\"Evaluated Test Accuracy: {test_accuracy:.3f}\")"
   ]
  },
  {
   "cell_type": "markdown",
   "metadata": {},
   "source": [
    "## f. LSTM RNN"
   ]
  },
  {
   "cell_type": "code",
   "execution_count": 75,
   "metadata": {},
   "outputs": [],
   "source": [
    "os.environ[\"CUDA_VISIBLE_DEVICES\"] = \"-1\"\n",
    "LSTM_model = Sequential([\n",
    "    Embedding(input_dim=5001, output_dim=32,input_length=L),\n",
    "    tf.keras.layers.LSTM(32),\n",
    "    Dropout(0.2),\n",
    "    Dense(256,activation='relu'),\n",
    "    Dropout(0.2),\n",
    "    Dense(1,activation='sigmoid')\n",
    "])"
   ]
  },
  {
   "cell_type": "code",
   "execution_count": 76,
   "metadata": {},
   "outputs": [
    {
     "data": {
      "text/html": [
       "<pre style=\"white-space:pre;overflow-x:auto;line-height:normal;font-family:Menlo,'DejaVu Sans Mono',consolas,'Courier New',monospace\"><span style=\"font-weight: bold\">Model: \"sequential_3\"</span>\n",
       "</pre>\n"
      ],
      "text/plain": [
       "\u001b[1mModel: \"sequential_3\"\u001b[0m\n"
      ]
     },
     "metadata": {},
     "output_type": "display_data"
    },
    {
     "data": {
      "text/html": [
       "<pre style=\"white-space:pre;overflow-x:auto;line-height:normal;font-family:Menlo,'DejaVu Sans Mono',consolas,'Courier New',monospace\">┏━━━━━━━━━━━━━━━━━━━━━━━━━━━━━━━━━┳━━━━━━━━━━━━━━━━━━━━━━━━┳━━━━━━━━━━━━━━━┓\n",
       "┃<span style=\"font-weight: bold\"> Layer (type)                    </span>┃<span style=\"font-weight: bold\"> Output Shape           </span>┃<span style=\"font-weight: bold\">       Param # </span>┃\n",
       "┡━━━━━━━━━━━━━━━━━━━━━━━━━━━━━━━━━╇━━━━━━━━━━━━━━━━━━━━━━━━╇━━━━━━━━━━━━━━━┩\n",
       "│ embedding_3 (<span style=\"color: #0087ff; text-decoration-color: #0087ff\">Embedding</span>)         │ ?                      │   <span style=\"color: #00af00; text-decoration-color: #00af00\">0</span> (unbuilt) │\n",
       "├─────────────────────────────────┼────────────────────────┼───────────────┤\n",
       "│ lstm (<span style=\"color: #0087ff; text-decoration-color: #0087ff\">LSTM</span>)                     │ ?                      │   <span style=\"color: #00af00; text-decoration-color: #00af00\">0</span> (unbuilt) │\n",
       "├─────────────────────────────────┼────────────────────────┼───────────────┤\n",
       "│ dropout_9 (<span style=\"color: #0087ff; text-decoration-color: #0087ff\">Dropout</span>)             │ ?                      │   <span style=\"color: #00af00; text-decoration-color: #00af00\">0</span> (unbuilt) │\n",
       "├─────────────────────────────────┼────────────────────────┼───────────────┤\n",
       "│ dense_12 (<span style=\"color: #0087ff; text-decoration-color: #0087ff\">Dense</span>)                │ ?                      │   <span style=\"color: #00af00; text-decoration-color: #00af00\">0</span> (unbuilt) │\n",
       "├─────────────────────────────────┼────────────────────────┼───────────────┤\n",
       "│ dropout_10 (<span style=\"color: #0087ff; text-decoration-color: #0087ff\">Dropout</span>)            │ ?                      │   <span style=\"color: #00af00; text-decoration-color: #00af00\">0</span> (unbuilt) │\n",
       "├─────────────────────────────────┼────────────────────────┼───────────────┤\n",
       "│ dense_13 (<span style=\"color: #0087ff; text-decoration-color: #0087ff\">Dense</span>)                │ ?                      │   <span style=\"color: #00af00; text-decoration-color: #00af00\">0</span> (unbuilt) │\n",
       "└─────────────────────────────────┴────────────────────────┴───────────────┘\n",
       "</pre>\n"
      ],
      "text/plain": [
       "┏━━━━━━━━━━━━━━━━━━━━━━━━━━━━━━━━━┳━━━━━━━━━━━━━━━━━━━━━━━━┳━━━━━━━━━━━━━━━┓\n",
       "┃\u001b[1m \u001b[0m\u001b[1mLayer (type)                   \u001b[0m\u001b[1m \u001b[0m┃\u001b[1m \u001b[0m\u001b[1mOutput Shape          \u001b[0m\u001b[1m \u001b[0m┃\u001b[1m \u001b[0m\u001b[1m      Param #\u001b[0m\u001b[1m \u001b[0m┃\n",
       "┡━━━━━━━━━━━━━━━━━━━━━━━━━━━━━━━━━╇━━━━━━━━━━━━━━━━━━━━━━━━╇━━━━━━━━━━━━━━━┩\n",
       "│ embedding_3 (\u001b[38;5;33mEmbedding\u001b[0m)         │ ?                      │   \u001b[38;5;34m0\u001b[0m (unbuilt) │\n",
       "├─────────────────────────────────┼────────────────────────┼───────────────┤\n",
       "│ lstm (\u001b[38;5;33mLSTM\u001b[0m)                     │ ?                      │   \u001b[38;5;34m0\u001b[0m (unbuilt) │\n",
       "├─────────────────────────────────┼────────────────────────┼───────────────┤\n",
       "│ dropout_9 (\u001b[38;5;33mDropout\u001b[0m)             │ ?                      │   \u001b[38;5;34m0\u001b[0m (unbuilt) │\n",
       "├─────────────────────────────────┼────────────────────────┼───────────────┤\n",
       "│ dense_12 (\u001b[38;5;33mDense\u001b[0m)                │ ?                      │   \u001b[38;5;34m0\u001b[0m (unbuilt) │\n",
       "├─────────────────────────────────┼────────────────────────┼───────────────┤\n",
       "│ dropout_10 (\u001b[38;5;33mDropout\u001b[0m)            │ ?                      │   \u001b[38;5;34m0\u001b[0m (unbuilt) │\n",
       "├─────────────────────────────────┼────────────────────────┼───────────────┤\n",
       "│ dense_13 (\u001b[38;5;33mDense\u001b[0m)                │ ?                      │   \u001b[38;5;34m0\u001b[0m (unbuilt) │\n",
       "└─────────────────────────────────┴────────────────────────┴───────────────┘\n"
      ]
     },
     "metadata": {},
     "output_type": "display_data"
    },
    {
     "data": {
      "text/html": [
       "<pre style=\"white-space:pre;overflow-x:auto;line-height:normal;font-family:Menlo,'DejaVu Sans Mono',consolas,'Courier New',monospace\"><span style=\"font-weight: bold\"> Total params: </span><span style=\"color: #00af00; text-decoration-color: #00af00\">0</span> (0.00 B)\n",
       "</pre>\n"
      ],
      "text/plain": [
       "\u001b[1m Total params: \u001b[0m\u001b[38;5;34m0\u001b[0m (0.00 B)\n"
      ]
     },
     "metadata": {},
     "output_type": "display_data"
    },
    {
     "data": {
      "text/html": [
       "<pre style=\"white-space:pre;overflow-x:auto;line-height:normal;font-family:Menlo,'DejaVu Sans Mono',consolas,'Courier New',monospace\"><span style=\"font-weight: bold\"> Trainable params: </span><span style=\"color: #00af00; text-decoration-color: #00af00\">0</span> (0.00 B)\n",
       "</pre>\n"
      ],
      "text/plain": [
       "\u001b[1m Trainable params: \u001b[0m\u001b[38;5;34m0\u001b[0m (0.00 B)\n"
      ]
     },
     "metadata": {},
     "output_type": "display_data"
    },
    {
     "data": {
      "text/html": [
       "<pre style=\"white-space:pre;overflow-x:auto;line-height:normal;font-family:Menlo,'DejaVu Sans Mono',consolas,'Courier New',monospace\"><span style=\"font-weight: bold\"> Non-trainable params: </span><span style=\"color: #00af00; text-decoration-color: #00af00\">0</span> (0.00 B)\n",
       "</pre>\n"
      ],
      "text/plain": [
       "\u001b[1m Non-trainable params: \u001b[0m\u001b[38;5;34m0\u001b[0m (0.00 B)\n"
      ]
     },
     "metadata": {},
     "output_type": "display_data"
    }
   ],
   "source": [
    "LSTM_model.summary()"
   ]
  },
  {
   "cell_type": "code",
   "execution_count": 77,
   "metadata": {},
   "outputs": [],
   "source": [
    "LSTM_model.compile(optimizer='adam', loss='binary_crossentropy', metrics=['accuracy'])"
   ]
  },
  {
   "cell_type": "code",
   "execution_count": 78,
   "metadata": {},
   "outputs": [
    {
     "name": "stdout",
     "output_type": "stream",
     "text": [
      "Epoch 1/10\n"
     ]
    },
    {
     "name": "stdout",
     "output_type": "stream",
     "text": [
      "\u001b[1m140/140\u001b[0m \u001b[32m━━━━━━━━━━━━━━━━━━━━\u001b[0m\u001b[37m\u001b[0m \u001b[1m24s\u001b[0m 161ms/step - accuracy: 0.5457 - loss: 0.6921\n",
      "Epoch 2/10\n",
      "\u001b[1m140/140\u001b[0m \u001b[32m━━━━━━━━━━━━━━━━━━━━\u001b[0m\u001b[37m\u001b[0m \u001b[1m30s\u001b[0m 210ms/step - accuracy: 0.5204 - loss: 0.6864\n",
      "Epoch 3/10\n",
      "\u001b[1m140/140\u001b[0m \u001b[32m━━━━━━━━━━━━━━━━━━━━\u001b[0m\u001b[37m\u001b[0m \u001b[1m17s\u001b[0m 122ms/step - accuracy: 0.6508 - loss: 0.5949\n",
      "Epoch 4/10\n",
      "\u001b[1m140/140\u001b[0m \u001b[32m━━━━━━━━━━━━━━━━━━━━\u001b[0m\u001b[37m\u001b[0m \u001b[1m18s\u001b[0m 126ms/step - accuracy: 0.6764 - loss: 0.5505\n",
      "Epoch 5/10\n",
      "\u001b[1m140/140\u001b[0m \u001b[32m━━━━━━━━━━━━━━━━━━━━\u001b[0m\u001b[37m\u001b[0m \u001b[1m33s\u001b[0m 240ms/step - accuracy: 0.6549 - loss: 0.5428\n",
      "Epoch 6/10\n",
      "\u001b[1m140/140\u001b[0m \u001b[32m━━━━━━━━━━━━━━━━━━━━\u001b[0m\u001b[37m\u001b[0m \u001b[1m27s\u001b[0m 189ms/step - accuracy: 0.6795 - loss: 0.5000\n",
      "Epoch 7/10\n",
      "\u001b[1m140/140\u001b[0m \u001b[32m━━━━━━━━━━━━━━━━━━━━\u001b[0m\u001b[37m\u001b[0m \u001b[1m18s\u001b[0m 129ms/step - accuracy: 0.6467 - loss: 0.4962\n",
      "Epoch 8/10\n",
      "\u001b[1m140/140\u001b[0m \u001b[32m━━━━━━━━━━━━━━━━━━━━\u001b[0m\u001b[37m\u001b[0m \u001b[1m28s\u001b[0m 198ms/step - accuracy: 0.6061 - loss: 0.5156\n",
      "Epoch 9/10\n",
      "\u001b[1m140/140\u001b[0m \u001b[32m━━━━━━━━━━━━━━━━━━━━\u001b[0m\u001b[37m\u001b[0m \u001b[1m27s\u001b[0m 194ms/step - accuracy: 0.6740 - loss: 0.5117\n",
      "Epoch 10/10\n",
      "\u001b[1m140/140\u001b[0m \u001b[32m━━━━━━━━━━━━━━━━━━━━\u001b[0m\u001b[37m\u001b[0m \u001b[1m22s\u001b[0m 159ms/step - accuracy: 0.6928 - loss: 0.4820\n"
     ]
    },
    {
     "data": {
      "text/plain": [
       "<keras.src.callbacks.history.History at 0x298adf9d0>"
      ]
     },
     "execution_count": 78,
     "metadata": {},
     "output_type": "execute_result"
    }
   ],
   "source": [
    "LSTM_model.fit(X_train_padded, y_train, epochs=10, batch_size=10)"
   ]
  },
  {
   "cell_type": "code",
   "execution_count": 79,
   "metadata": {},
   "outputs": [
    {
     "name": "stdout",
     "output_type": "stream",
     "text": [
      "\u001b[1m44/44\u001b[0m \u001b[32m━━━━━━━━━━━━━━━━━━━━\u001b[0m\u001b[37m\u001b[0m \u001b[1m3s\u001b[0m 50ms/step - accuracy: 0.4739 - loss: 0.4902\n",
      "\u001b[1m19/19\u001b[0m \u001b[32m━━━━━━━━━━━━━━━━━━━━\u001b[0m\u001b[37m\u001b[0m \u001b[1m1s\u001b[0m 38ms/step - accuracy: 0.3791 - loss: 0.9643\n"
     ]
    }
   ],
   "source": [
    "train_loss, train_accuracy = LSTM_model.evaluate(X_train_padded, y_train)\n",
    "test_loss, test_accuracy = LSTM_model.evaluate(X_test_padded, y_test)"
   ]
  },
  {
   "cell_type": "code",
   "execution_count": 81,
   "metadata": {},
   "outputs": [
    {
     "name": "stdout",
     "output_type": "stream",
     "text": [
      "Evaluated Train Loss: 0.482\n",
      "Evaluated Train Accuracy: 0.682\n",
      "Evaluated Test Loss: 0.996\n",
      "Evaluated Test Accuracy: 0.572\n"
     ]
    }
   ],
   "source": [
    "print(f\"Evaluated Train Loss: {train_loss:.3f}\")\n",
    "print(f\"Evaluated Train Accuracy: {train_accuracy:.3}\")\n",
    "print(f\"Evaluated Test Loss: {test_loss:.3f}\")\n",
    "print(f\"Evaluated Test Accuracy: {test_accuracy:.3f}\")"
   ]
  }
 ],
 "metadata": {
  "kernelspec": {
   "display_name": "keras-jax",
   "language": "python",
   "name": "python3"
  },
  "language_info": {
   "codemirror_mode": {
    "name": "ipython",
    "version": 3
   },
   "file_extension": ".py",
   "mimetype": "text/x-python",
   "name": "python",
   "nbconvert_exporter": "python",
   "pygments_lexer": "ipython3",
   "version": "3.8.19"
  }
 },
 "nbformat": 4,
 "nbformat_minor": 2
}
